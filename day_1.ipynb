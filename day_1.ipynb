{
 "cells": [
  {
   "cell_type": "markdown",
   "metadata": {
    "collapsed": true
   },
   "source": [
    "# Day 1\n",
    "\n",
    "\n",
    "\n",
    "\n",
    "\n",
    "| Exercise | Requires coding | What to code (if anything) | What should you learn (or practice)    | Done it! |\n",
    "|----------|-----------------|----------------------------|----------------------------------------|----------|\n",
    "| 1.1      | Yes             | Naive Bayes                | Naive Bayes                            | No       |\n",
    "| 1.2      | No              |                            | Perceptron                             | No       |\n",
    "| 1.3      | No              |                            | MIRA                                   | No       |\n",
    "| 1.4      | No              |                            | Maximum Entropy                        | No       |\n",
    "| 1.5      | Yes             | SVM                        | SVM                                    | No       |\n",
    "| 1.6      | No              |                            | Impact of Amount of data in the models | No       |\n",
    "\n",
    "\n"
   ]
  },
  {
   "cell_type": "markdown",
   "metadata": {},
   "source": [
    "# Generative classifiers\n",
    "\n"
   ]
  },
  {
   "cell_type": "code",
   "execution_count": 55,
   "metadata": {},
   "outputs": [
    {
     "name": "stdout",
     "output_type": "stream",
     "text": [
      "The autoreload extension is already loaded. To reload it, use:\n",
      "  %reload_ext autoreload\n"
     ]
    }
   ],
   "source": [
    "%matplotlib inline\n",
    "%load_ext autoreload\n",
    "%autoreload 2\n",
    "from matplotlib import pyplot as plt"
   ]
  },
  {
   "cell_type": "code",
   "execution_count": 44,
   "metadata": {
    "collapsed": true
   },
   "outputs": [],
   "source": [
    "import sys\n",
    "# We will this append to ensure we can import lxmls toolking\n",
    "sys.path.append('../lxmls-toolkit')"
   ]
  },
  {
   "cell_type": "code",
   "execution_count": 168,
   "metadata": {
    "collapsed": true
   },
   "outputs": [],
   "source": [
    "import lxmls.readers.sentiment_reader as srs\n",
    "import lxmls.classifiers.naive_bayes as nb"
   ]
  },
  {
   "cell_type": "markdown",
   "metadata": {},
   "source": [
    "## Exercise 1.1 \n",
    "\n",
    "In this exercise we will use the Amazon sentiment analysis data (?), where the goal is to classify text documents as expressing a positive or negative sentiment (i.e., a classification problem with two classes). We are going to focus on book reviews. To load the data, type"
   ]
  },
  {
   "cell_type": "code",
   "execution_count": 173,
   "metadata": {},
   "outputs": [
    {
     "name": "stdout",
     "output_type": "stream",
     "text": [
      "2000\n",
      "1600\n"
     ]
    }
   ],
   "source": [
    "scr = srs.SentimentCorpus(\"books\")"
   ]
  },
  {
   "cell_type": "code",
   "execution_count": 174,
   "metadata": {},
   "outputs": [
    {
     "data": {
      "text/plain": [
       "13989"
      ]
     },
     "execution_count": 174,
     "metadata": {},
     "output_type": "execute_result"
    }
   ],
   "source": [
    "len(scr.feat_dict)"
   ]
  },
  {
   "cell_type": "code",
   "execution_count": 48,
   "metadata": {},
   "outputs": [
    {
     "data": {
      "text/plain": [
       "((1600, 13989), (1600, 1))"
      ]
     },
     "execution_count": 48,
     "metadata": {},
     "output_type": "execute_result"
    }
   ],
   "source": [
    "scr.train_X.shape, scr.train_y.shape"
   ]
  },
  {
   "cell_type": "code",
   "execution_count": 49,
   "metadata": {},
   "outputs": [
    {
     "data": {
      "text/plain": [
       "((400, 13989), (400, 1))"
      ]
     },
     "execution_count": 49,
     "metadata": {},
     "output_type": "execute_result"
    }
   ],
   "source": [
    "scr.test_X.shape,  scr.test_y.shape"
   ]
  },
  {
   "cell_type": "markdown",
   "metadata": {},
   "source": [
    "This will load the data in a bag-of-words representation where rare words (occurring less than 5 times in the training data) are removed.\n",
    "\n",
    "####  Part 1\n",
    "<font color='red'>**Implement the Naıve Bayes algorithm. Open the file multinomial naive bayes.py, which is inside the classifiers folder**</font>. In the MultinomialNaiveBayes class you will find the train method. We have already placed some code in that file to help you get started.\n",
    "\n",
    "#### Part 2\n",
    "After implementing, run NaıveBayes with the multinomial model on the Amazon dataset(sentiment classification) and report results both for training and testing:"
   ]
  },
  {
   "cell_type": "code",
   "execution_count": 50,
   "metadata": {},
   "outputs": [
    {
     "name": "stdout",
     "output_type": "stream",
     "text": [
      "Multinomial Naive Bayes Amazon Sentiment Accuracy train: 0.987500 test: 0.635000\n"
     ]
    }
   ],
   "source": [
    "import lxmls.classifiers.multinomial_naive_bayes as mnbb\n",
    "mnb = mnbb.MultinomialNaiveBayes()\n",
    "params_nb_sc = mnb.train(scr.train_X,scr.train_y)\n",
    "y_pred_train = mnb.test(scr.train_X,params_nb_sc)\n",
    "acc_train = mnb.evaluate(scr.train_y, y_pred_train)\n",
    "y_pred_test = mnb.test(scr.test_X,params_nb_sc)\n",
    "acc_test = mnb.evaluate(scr.test_y, y_pred_test)\n",
    "\n",
    "print \"Multinomial Naive Bayes Amazon Sentiment Accuracy train: %f test: %f\"%(\n",
    "      acc_train,acc_test)"
   ]
  },
  {
   "cell_type": "markdown",
   "metadata": {},
   "source": [
    "##### Part 3\n",
    "Observe that words that were not observed at training time cause problems at test time. Why? To solve this problem, apply a simple add-one smoothing technique: replace the expression in Eq. 1.9 for the estimation of the conditional probabilities by \n",
    "\n",
    "\n",
    "where J is the number of distinct words.\n",
    "\n",
    "This is a widely used smoothing strategy which has a Bayesian interpretation: it corresponds to choosing a uniform prior for the word distribution on both classes, and to replace the maximum likelihood criterion by a maximum a posteriori approach. This is a form of regularization, preventing the model from overfitting on the training data. See e.g. ??) for more information. Report the new accuracies.\n",
    "\n"
   ]
  },
  {
   "cell_type": "markdown",
   "metadata": {
    "collapsed": true
   },
   "source": [
    "# Discriminative Classifiers"
   ]
  },
  {
   "cell_type": "code",
   "execution_count": null,
   "metadata": {
    "collapsed": true
   },
   "outputs": [],
   "source": []
  },
  {
   "cell_type": "markdown",
   "metadata": {
    "collapsed": true
   },
   "source": [
    "## Exercise 1.2\n",
    "\n"
   ]
  },
  {
   "cell_type": "code",
   "execution_count": 67,
   "metadata": {
    "collapsed": true
   },
   "outputs": [],
   "source": [
    "import lxmls.readers.simple_data_set as sds\n",
    "sd = sds.SimpleDataSet(nr_examples=100, g1 = [[-1,-1],1], g2 = [[1,1],1],\n",
    "                       balance=0.5,split=[0.5,0,0.5])"
   ]
  },
  {
   "cell_type": "code",
   "execution_count": 68,
   "metadata": {},
   "outputs": [
    {
     "data": {
      "text/plain": [
       "<matplotlib.collections.PathCollection at 0x10d98af10>"
      ]
     },
     "execution_count": 68,
     "metadata": {},
     "output_type": "execute_result"
    },
    {
     "data": {
      "image/png": "[encoded data removed]",
      "text/plain": [
       "<matplotlib.figure.Figure at 0x10d33a1d0>"
      ]
     },
     "metadata": {},
     "output_type": "display_data"
    }
   ],
   "source": [
    "plt.scatter(sd.train_X[:,0],sd.train_X[:,1])"
   ]
  },
  {
   "cell_type": "markdown",
   "metadata": {},
   "source": [
    "### 1.2.2\n",
    "\n",
    "Run the perceptron algorithm on the simple dataset previously generated and report its train and test set accuracy:"
   ]
  },
  {
   "cell_type": "code",
   "execution_count": 119,
   "metadata": {
    "collapsed": true
   },
   "outputs": [],
   "source": [
    "import lxmls.classifiers.perceptron as percc\n",
    "perc = percc.Perceptron()"
   ]
  },
  {
   "cell_type": "code",
   "execution_count": 120,
   "metadata": {},
   "outputs": [
    {
     "name": "stdout",
     "output_type": "stream",
     "text": [
      "Rounds: 0 Accuracy: 0.920000\n",
      "Rounds: 1 Accuracy: 0.900000\n",
      "Rounds: 2 Accuracy: 0.920000\n",
      "Rounds: 3 Accuracy: 0.900000\n",
      "Rounds: 4 Accuracy: 0.920000\n",
      "Rounds: 5 Accuracy: 0.920000\n",
      "Rounds: 6 Accuracy: 0.640000\n",
      "Rounds: 7 Accuracy: 0.940000\n",
      "Rounds: 8 Accuracy: 0.900000\n",
      "Rounds: 9 Accuracy: 0.920000\n",
      "Perceptron Simple Dataset Accuracy train: 0.940000 test: 0.880000\n"
     ]
    }
   ],
   "source": [
    "params_perc_sd = perc.train(sd.train_X, sd.train_y)\n",
    "y_pred_train = perc.test(sd.train_X,params_perc_sd)\n",
    "acc_train = perc.evaluate(sd.train_y, y_pred_train)\n",
    "y_pred_test = perc.test(sd.test_X,params_perc_sd)\n",
    "acc_test = perc.evaluate(sd.test_y, y_pred_test)\n",
    "print \"Perceptron Simple Dataset Accuracy train: %f test: %f\"%(acc_train,acc_test)"
   ]
  },
  {
   "cell_type": "markdown",
   "metadata": {},
   "source": [
    "### 1.2.3\n",
    "\n",
    "Plot the decision boundary foun.\n",
    "\n",
    "Change the code to save the intermediate weight vectors, and plot them every five iterations. What do you observe?"
   ]
  },
  {
   "cell_type": "code",
   "execution_count": 121,
   "metadata": {},
   "outputs": [
    {
     "name": "stdout",
     "output_type": "stream",
     "text": [
      "[[-1.69314718 -1.69314718]\n",
      " [-1.          1.        ]\n",
      " [-1.          1.        ]]\n"
     ]
    },
    {
     "data": {
      "image/png": "[encoded data removed]",
      "text/plain": [
       "<matplotlib.figure.Figure at 0x10ed54310>"
      ]
     },
     "metadata": {},
     "output_type": "display_data"
    }
   ],
   "source": [
    "fig,axis = sd.plot_data()\n",
    "fig,axis = sd.add_line(fig,axis,params_perc_sd,\"Perceptron\",\"blue\")"
   ]
  },
  {
   "cell_type": "markdown",
   "metadata": {},
   "source": [
    "### 1.2.4\n",
    "\n",
    "Run the perceptron algorithm on the Amazon dataset."
   ]
  },
  {
   "cell_type": "code",
   "execution_count": 78,
   "metadata": {},
   "outputs": [
    {
     "name": "stdout",
     "output_type": "stream",
     "text": [
      "Rounds: 0 Accuracy: 0.870000\n",
      "Rounds: 1 Accuracy: 0.940000\n",
      "Rounds: 2 Accuracy: 0.979375\n",
      "Rounds: 3 Accuracy: 0.965625\n",
      "Rounds: 4 Accuracy: 0.989375\n",
      "Rounds: 5 Accuracy: 0.996250\n",
      "Rounds: 6 Accuracy: 0.995000\n",
      "Rounds: 7 Accuracy: 0.999375\n",
      "Rounds: 8 Accuracy: 0.996250\n",
      "Rounds: 9 Accuracy: 0.998125\n",
      "Perceptron Amazon Sentiment Accuracy train: 0.998750 test: 0.825000\n"
     ]
    }
   ],
   "source": [
    "perc = percc.Perceptron()\n",
    "\n",
    "params_nb_sc = perc.train(scr.train_X,scr.train_y)\n",
    "y_pred_train = perc.test(scr.train_X,params_nb_sc)\n",
    "acc_train = perc.evaluate(scr.train_y, y_pred_train)\n",
    "y_pred_test = perc.test(scr.test_X,params_nb_sc)\n",
    "acc_test = perc.evaluate(scr.test_y, y_pred_test)\n",
    "\n",
    "print \"Perceptron Amazon Sentiment Accuracy train: %f test: %f\"\\\n",
    "       %(acc_train,acc_test)"
   ]
  },
  {
   "cell_type": "markdown",
   "metadata": {},
   "source": [
    "## Exercise 1.3\n",
    "We provide an implementation of the MIRA algorithm.\n",
    "Compare it with the perceptron for various values of λ\n"
   ]
  },
  {
   "cell_type": "code",
   "execution_count": 167,
   "metadata": {},
   "outputs": [
    {
     "name": "stdout",
     "output_type": "stream",
     "text": [
      "\tTraining model with Lambda: 0.100000\n",
      "Rounds: 0 Accuracy: 0.920000\n",
      "Rounds: 1 Accuracy: 0.940000\n",
      "Rounds: 2 Accuracy: 0.860000\n",
      "Rounds: 3 Accuracy: 0.820000\n",
      "Rounds: 4 Accuracy: 0.920000\n",
      "Rounds: 5 Accuracy: 0.920000\n",
      "Rounds: 6 Accuracy: 0.900000\n",
      "Rounds: 7 Accuracy: 0.900000\n",
      "Rounds: 8 Accuracy: 0.840000\n",
      "Rounds: 9 Accuracy: 0.920000\n",
      "\tMira Amazon Sentiment Accuracy train: 0.920000 test: 0.840000\n",
      "\n",
      "\n",
      "\n"
     ]
    }
   ],
   "source": [
    "import lxmls.classifiers.mira as mirac\n",
    "\n",
    "train_X = sd.train_X\n",
    "train_y = sd.train_y\n",
    "test_X  = sd.test_X\n",
    "test_y  = sd.test_y\n",
    "\n",
    "reg = 0.1\n",
    "\n",
    "mira = mirac.Mira()\n",
    "mira.regularizer = reg \n",
    "    \n",
    "    \n",
    "# train the model\n",
    "print \"\\tTraining model with Lambda: %f\"%(reg) \n",
    "params_mira_sc = mira.train(train_X, train_y)\n",
    "\n",
    "# evaluate train\n",
    "y_pred_train = mira.test(train_X, params_mira_sc)\n",
    "acc_train = mira.evaluate(train_y, y_pred_train)\n",
    "\n",
    "# evaluate test\n",
    "y_pred_test = mira.test(test_X, params_mira_sc)\n",
    "acc_test = mira.evaluate(test_y, y_pred_test)\n",
    "\n",
    "# Print results\n",
    "print \"\\tMira Amazon Sentiment Accuracy train: %f test: %f\"%(acc_train,acc_test)\n",
    "print \"\\n\\n\""
   ]
  },
  {
   "cell_type": "code",
   "execution_count": 135,
   "metadata": {
    "scrolled": false
   },
   "outputs": [
    {
     "name": "stdout",
     "output_type": "stream",
     "text": [
      "\tTraining model with Lambda: 0.100000\n",
      "Rounds: 0 Accuracy: 0.920000\n",
      "Rounds: 1 Accuracy: 0.940000\n",
      "Rounds: 2 Accuracy: 0.860000\n",
      "Rounds: 3 Accuracy: 0.820000\n",
      "Rounds: 4 Accuracy: 0.920000\n",
      "Rounds: 5 Accuracy: 0.920000\n",
      "Rounds: 6 Accuracy: 0.900000\n",
      "Rounds: 7 Accuracy: 0.900000\n",
      "Rounds: 8 Accuracy: 0.840000\n",
      "Rounds: 9 Accuracy: 0.920000\n",
      "\tMira Amazon Sentiment Accuracy train: 0.920000 test: 0.840000\n",
      "\n",
      "\n",
      "\n",
      "\tTraining model with Lambda: 0.200000\n",
      "Rounds: 0 Accuracy: 0.900000\n",
      "Rounds: 1 Accuracy: 0.940000\n",
      "Rounds: 2 Accuracy: 0.840000\n",
      "Rounds: 3 Accuracy: 0.800000\n",
      "Rounds: 4 Accuracy: 0.940000\n",
      "Rounds: 5 Accuracy: 0.900000\n",
      "Rounds: 6 Accuracy: 0.900000\n",
      "Rounds: 7 Accuracy: 0.680000\n",
      "Rounds: 8 Accuracy: 0.800000\n",
      "Rounds: 9 Accuracy: 0.920000\n",
      "\tMira Amazon Sentiment Accuracy train: 0.920000 test: 0.840000\n",
      "\n",
      "\n",
      "\n",
      "\tTraining model with Lambda: 0.300000\n",
      "Rounds: 0 Accuracy: 0.900000\n",
      "Rounds: 1 Accuracy: 0.880000\n",
      "Rounds: 2 Accuracy: 0.780000\n",
      "Rounds: 3 Accuracy: 0.660000\n",
      "Rounds: 4 Accuracy: 0.940000\n",
      "Rounds: 5 Accuracy: 0.860000\n",
      "Rounds: 6 Accuracy: 0.920000\n",
      "Rounds: 7 Accuracy: 0.640000\n",
      "Rounds: 8 Accuracy: 0.800000\n",
      "Rounds: 9 Accuracy: 0.940000\n",
      "\tMira Amazon Sentiment Accuracy train: 0.940000 test: 0.840000\n",
      "\n",
      "\n",
      "\n",
      "\tTraining model with Lambda: 0.500000\n",
      "Rounds: 0 Accuracy: 0.820000\n",
      "Rounds: 1 Accuracy: 0.800000\n",
      "Rounds: 2 Accuracy: 0.820000\n",
      "Rounds: 3 Accuracy: 0.780000\n",
      "Rounds: 4 Accuracy: 0.920000\n",
      "Rounds: 5 Accuracy: 0.900000\n",
      "Rounds: 6 Accuracy: 0.920000\n",
      "Rounds: 7 Accuracy: 0.920000\n",
      "Rounds: 8 Accuracy: 0.800000\n",
      "Rounds: 9 Accuracy: 0.920000\n",
      "\tMira Amazon Sentiment Accuracy train: 0.940000 test: 0.860000\n",
      "\n",
      "\n",
      "\n",
      "\tTraining model with Lambda: 1.000000\n",
      "Rounds: 0 Accuracy: 0.940000\n",
      "Rounds: 1 Accuracy: 0.940000\n",
      "Rounds: 2 Accuracy: 0.940000\n",
      "Rounds: 3 Accuracy: 0.940000\n",
      "Rounds: 4 Accuracy: 0.940000\n",
      "Rounds: 5 Accuracy: 0.940000\n",
      "Rounds: 6 Accuracy: 0.940000\n",
      "Rounds: 7 Accuracy: 0.940000\n",
      "Rounds: 8 Accuracy: 0.940000\n",
      "Rounds: 9 Accuracy: 0.940000\n",
      "\tMira Amazon Sentiment Accuracy train: 0.940000 test: 0.900000\n",
      "\n",
      "\n",
      "\n"
     ]
    }
   ],
   "source": [
    "import lxmls.classifiers.mira as mirac\n",
    "\n",
    "train_X = sd.train_X\n",
    "train_y = sd.train_y\n",
    "test_X  = sd.test_X\n",
    "test_y  = sd.test_y\n",
    "\n",
    "regularizers = [0.1, 0.2, 0.3, 0.5, 1.]\n",
    "\n",
    "for reg in regularizers:\n",
    "    mira = mirac.Mira()\n",
    "    mira.regularizer = reg \n",
    "    \n",
    "    \n",
    "    # train the model\n",
    "    print \"\\tTraining model with Lambda: %f\"%(reg) \n",
    "    params_mira_sc = mira.train(train_X, train_y)\n",
    "    \n",
    "    # evaluate train\n",
    "    y_pred_train = mira.test(train_X, params_mira_sc)\n",
    "    acc_train = mira.evaluate(train_y, y_pred_train)\n",
    "    \n",
    "    # evaluate test\n",
    "    y_pred_test = mira.test(test_X, params_mira_sc)\n",
    "    acc_test = mira.evaluate(test_y, y_pred_test)\n",
    "    \n",
    "    # Print results\n",
    "    print \"\\tMira Amazon Sentiment Accuracy train: %f test: %f\"%(acc_train,acc_test)\n",
    "    print \"\\n\\n\"\n",
    "\n"
   ]
  },
  {
   "cell_type": "markdown",
   "metadata": {},
   "source": [
    "Now in the Amazon dataset"
   ]
  },
  {
   "cell_type": "code",
   "execution_count": 143,
   "metadata": {},
   "outputs": [
    {
     "data": {
      "text/plain": [
       "(1600, 13989)"
      ]
     },
     "execution_count": 143,
     "metadata": {},
     "output_type": "execute_result"
    }
   ],
   "source": [
    "X_train.shape"
   ]
  },
  {
   "cell_type": "code",
   "execution_count": 149,
   "metadata": {},
   "outputs": [
    {
     "name": "stdout",
     "output_type": "stream",
     "text": [
      "\tTraining model with Lambda: 0.100000\n",
      "Rounds: 0 Accuracy: 0.707500\n",
      "Rounds: 1 Accuracy: 0.740625\n",
      "Rounds: 2 Accuracy: 0.743125\n",
      "Rounds: 3 Accuracy: 0.811875\n",
      "Rounds: 4 Accuracy: 0.770000\n",
      "Rounds: 5 Accuracy: 0.810625\n",
      "Rounds: 6 Accuracy: 0.843750\n",
      "Rounds: 7 Accuracy: 0.868750\n",
      "Rounds: 8 Accuracy: 0.890000\n",
      "Rounds: 9 Accuracy: 0.868125\n",
      "Mira Amazon Sentiment Accuracy train: 0.886875 test: 0.755000\n",
      "\tTraining model with Lambda: 0.200000\n",
      "Rounds: 0 Accuracy: 0.597500\n",
      "Rounds: 1 Accuracy: 0.658125\n",
      "Rounds: 2 Accuracy: 0.715625\n",
      "Rounds: 3 Accuracy: 0.749375\n",
      "Rounds: 4 Accuracy: 0.696875\n",
      "Rounds: 5 Accuracy: 0.764375\n",
      "Rounds: 6 Accuracy: 0.808750\n",
      "Rounds: 7 Accuracy: 0.802500\n",
      "Rounds: 8 Accuracy: 0.796875\n",
      "Rounds: 9 Accuracy: 0.815625\n",
      "Mira Amazon Sentiment Accuracy train: 0.818125 test: 0.737500\n",
      "\tTraining model with Lambda: 0.300000\n",
      "Rounds: 0 Accuracy: 0.594375\n",
      "Rounds: 1 Accuracy: 0.581875\n",
      "Rounds: 2 Accuracy: 0.670625\n",
      "Rounds: 3 Accuracy: 0.685000\n",
      "Rounds: 4 Accuracy: 0.744375\n",
      "Rounds: 5 Accuracy: 0.750000\n",
      "Rounds: 6 Accuracy: 0.726875\n",
      "Rounds: 7 Accuracy: 0.768125\n",
      "Rounds: 8 Accuracy: 0.760000\n",
      "Rounds: 9 Accuracy: 0.793125\n",
      "Mira Amazon Sentiment Accuracy train: 0.775625 test: 0.722500\n",
      "\tTraining model with Lambda: 0.500000\n",
      "Rounds: 0 Accuracy: 0.503125\n",
      "Rounds: 1 Accuracy: 0.515000\n",
      "Rounds: 2 Accuracy: 0.528750\n",
      "Rounds: 3 Accuracy: 0.535000\n",
      "Rounds: 4 Accuracy: 0.597500\n",
      "Rounds: 5 Accuracy: 0.636250\n",
      "Rounds: 6 Accuracy: 0.636250\n",
      "Rounds: 7 Accuracy: 0.690625\n",
      "Rounds: 8 Accuracy: 0.638750\n",
      "Rounds: 9 Accuracy: 0.665625\n",
      "Mira Amazon Sentiment Accuracy train: 0.623125 test: 0.620000\n",
      "\tTraining model with Lambda: 1.000000\n",
      "Rounds: 0 Accuracy: 0.500000\n",
      "Rounds: 1 Accuracy: 0.500000\n",
      "Rounds: 2 Accuracy: 0.500000\n",
      "Rounds: 3 Accuracy: 0.500000\n",
      "Rounds: 4 Accuracy: 0.500000\n",
      "Rounds: 5 Accuracy: 0.500000\n",
      "Rounds: 6 Accuracy: 0.500000\n",
      "Rounds: 7 Accuracy: 0.500000\n",
      "Rounds: 8 Accuracy: 0.500000\n",
      "Rounds: 9 Accuracy: 0.500000\n",
      "Mira Amazon Sentiment Accuracy train: 0.500000 test: 0.500000\n"
     ]
    }
   ],
   "source": [
    "import lxmls.classifiers.mira as mirac\n",
    "\n",
    "X_train = scr.train_X\n",
    "y_train = scr.train_y\n",
    "X_test  = scr.test_X\n",
    "y_test  = scr.test_y\n",
    "\n",
    "regularizers = [0.1, 0.2, 0.3, 0.5, 1.]\n",
    "\n",
    "\n",
    "for reg in regularizers:\n",
    "    mira = mirac.Mira()\n",
    "    mira.regularizer = reg \n",
    "    \n",
    "    # train the model\n",
    "    print \"\\tTraining model with Lambda: %f\"%(reg) \n",
    "    params_mira_sc = mira.train(scr.train_X, scr.train_y)\n",
    "    \n",
    "    # evaluate train\n",
    "    y_pred_train = mira.test(scr.train_X, params_mira_sc)\n",
    "    acc_train = mira.evaluate(scr.train_y, y_pred_train)\n",
    "    \n",
    "    # evaluate test\n",
    "    y_pred_test = mira.test(scr.test_X,params_mira_sc)\n",
    "    acc_test = mira.evaluate(scr.test_y, y_pred_test)\n",
    "    \n",
    "    # Print results\n",
    "    print \"Mira Amazon Sentiment Accuracy train: %f test: %f\"%(acc_train,acc_test)\n",
    "    print \"\\n\\n\""
   ]
  },
  {
   "cell_type": "markdown",
   "metadata": {},
   "source": [
    "## Exercise 1.4 \n",
    "\n",
    "We provide an implementation of the L-BFGS algorithm for training maximum entropy models in the class\n",
    "MaxEnt batch, as well as an implementation of the SGD algorithm in the class MaxEnt online.\n",
    "\n",
    "### 1.4.1\n",
    "Train a maximum entropy model using L-BFGS on the Simple data set (try different values of λ). Compare the\n",
    "results with the previous methods. Plot the decision boundary."
   ]
  },
  {
   "cell_type": "code",
   "execution_count": 155,
   "metadata": {},
   "outputs": [
    {
     "name": "stdout",
     "output_type": "stream",
     "text": [
      "Objective = 0.69314718056\n",
      "Objective = 0.744562300061\n",
      "Objective = 0.481189675634\n",
      "Objective = 0.481131767079\n",
      "Objective = 0.481124374915\n",
      "Objective = 0.481124335051\n",
      "Objective = 0.48112433463\n",
      "Max-Ent batch Simple Dataset Accuracy train: 0.920000 test: 0.900000\n"
     ]
    }
   ],
   "source": [
    "import lxmls.classifiers.max_ent_batch as mebc\n",
    "me_lbfgs = mebc.MaxEntBatch()\n",
    "me_lbfgs.regularizer = 1.0\n",
    "params_meb_sd = me_lbfgs.train(sd.train_X,sd.train_y)\n",
    "y_pred_train = me_lbfgs.test(sd.train_X,params_meb_sd)\n",
    "acc_train = me_lbfgs.evaluate(sd.train_y, y_pred_train)\n",
    "y_pred_test = me_lbfgs.test(sd.test_X,params_meb_sd)\n",
    "acc_test = me_lbfgs.evaluate(sd.test_y, y_pred_test)\n",
    "\n",
    "print \"Max-Ent batch Simple Dataset Accuracy train: %f test: %f\"%(acc_train,acc_test)\n",
    "fig,axis = sd.add_line(fig,axis,params_meb_sd,\"Max-Ent-Batch\",\"orange\")"
   ]
  },
  {
   "cell_type": "markdown",
   "metadata": {},
   "source": [
    "### 1.4.2\n",
    "\n",
    "Train a maximum entropy model using L-BFGS, on the Amazon dataset (try different values of λ) and report training and test set accuracy. What do you observe?"
   ]
  },
  {
   "cell_type": "code",
   "execution_count": 156,
   "metadata": {},
   "outputs": [
    {
     "name": "stdout",
     "output_type": "stream",
     "text": [
      "Objective = 0.69314718056\n",
      "Objective = 2.35699359189\n",
      "Objective = 0.684446278348\n",
      "Objective = 0.662465339727\n",
      "Objective = 0.636905088298\n",
      "Objective = 0.627955556207\n",
      "Objective = 0.62428542661\n",
      "Objective = 0.622621016561\n",
      "Objective = 0.622511818322\n",
      "Objective = 0.622432543872\n",
      "Objective = 0.622409822693\n",
      "Objective = 0.622403500619\n",
      "Objective = 0.622402924504\n",
      "Objective = 0.622402796132\n",
      "Objective = 0.622402787594\n",
      "Objective = 0.622402780959\n",
      "Objective = 0.622402796062\n",
      "Objective = 0.622402779848\n",
      "Max-Ent Batch Amazon Sentiment Accuracy train: 0.858125 test: 0.790000\n"
     ]
    }
   ],
   "source": [
    "params_meb_sc = me_lbfgs.train(scr.train_X,scr.train_y)\n",
    "y_pred_train = me_lbfgs.test(scr.train_X,params_meb_sc)\n",
    "acc_train = me_lbfgs.evaluate(scr.train_y, y_pred_train)\n",
    "y_pred_test = me_lbfgs.test(scr.test_X,params_meb_sc)\n",
    "acc_test = me_lbfgs.evaluate(scr.test_y, y_pred_test)\n",
    "print \"Max-Ent Batch Amazon Sentiment Accuracy train: %f test: %f\"%(acc_train, acc_test)"
   ]
  },
  {
   "cell_type": "markdown",
   "metadata": {},
   "source": [
    "### 1.4.3\n",
    "\n",
    "Now, fix λ = 1.0 and train with SGD (you might try to adjust the initial step). Compare the objective values\n",
    "obtained during training with those obtained with L-BFGS. What do you observe?"
   ]
  },
  {
   "cell_type": "code",
   "execution_count": 157,
   "metadata": {},
   "outputs": [
    {
     "name": "stdout",
     "output_type": "stream",
     "text": [
      "Epochs: 0 Objective: 1.169629\n",
      "Epochs: 0 Accuracy: 0.821875\n",
      "Epochs: 1 Objective: 0.646076\n",
      "Epochs: 1 Accuracy: 0.850000\n",
      "Epochs: 2 Objective: 0.635095\n",
      "Epochs: 2 Accuracy: 0.861250\n",
      "Epochs: 3 Objective: 0.631180\n",
      "Epochs: 3 Accuracy: 0.860000\n",
      "Epochs: 4 Objective: 0.629128\n",
      "Epochs: 4 Accuracy: 0.861875\n",
      "Epochs: 5 Objective: 0.627862\n",
      "Epochs: 5 Accuracy: 0.861250\n",
      "Epochs: 6 Objective: 0.627001\n",
      "Epochs: 6 Accuracy: 0.861250\n",
      "Epochs: 7 Objective: 0.626376\n",
      "Epochs: 7 Accuracy: 0.860625\n",
      "Epochs: 8 Objective: 0.625902\n",
      "Epochs: 8 Accuracy: 0.860625\n",
      "Epochs: 9 Objective: 0.625529\n",
      "Epochs: 9 Accuracy: 0.860625\n",
      "Max-Ent Online Amazon Sentiment Accuracy train: 0.860625 test: 0.787500\n"
     ]
    }
   ],
   "source": [
    "import lxmls.classifiers.max_ent_online as meoc\n",
    "me_sgd = meoc.MaxEntOnline()\n",
    "me_sgd.regularizer = 1.0\n",
    "params_meo_sc = me_sgd.train(scr.train_X,scr.train_y)\n",
    "y_pred_train = me_sgd.test(scr.train_X,params_meo_sc)\n",
    "acc_train = me_sgd.evaluate(scr.train_y, y_pred_train)\n",
    "y_pred_test = me_sgd.test(scr.test_X,params_meo_sc)\n",
    "acc_test = me_sgd.evaluate(scr.test_y, y_pred_test)\n",
    "print \"Max-Ent Online Amazon Sentiment Accuracy train: %f test: %f\"%(acc_train,\n",
    "acc_test)\n"
   ]
  },
  {
   "cell_type": "code",
   "execution_count": null,
   "metadata": {
    "collapsed": true
   },
   "outputs": [],
   "source": []
  },
  {
   "cell_type": "markdown",
   "metadata": {},
   "source": [
    "## Exercise 1.5\n",
    "\n",
    "Implement the SVM primal algorithm (Hint: look at the models implemented earlier, you should only need to change a few lines of code). Do this by creating a file SVM.py and implement class SVM. Then, repeat the MaxEnt exercise now using SVMs, for several values of λ:"
   ]
  },
  {
   "cell_type": "code",
   "execution_count": 158,
   "metadata": {},
   "outputs": [
    {
     "name": "stdout",
     "output_type": "stream",
     "text": [
      "Epochs: 0 Objective: 0.525850\n",
      "Epochs: 0 Accuracy: 0.900000\n",
      "Epochs: 1 Objective: 0.425950\n",
      "Epochs: 1 Accuracy: 0.900000\n",
      "Epochs: 2 Objective: 0.417487\n",
      "Epochs: 2 Accuracy: 0.900000\n",
      "Epochs: 3 Objective: 0.417623\n",
      "Epochs: 3 Accuracy: 0.900000\n",
      "Epochs: 4 Objective: 0.415028\n",
      "Epochs: 4 Accuracy: 0.900000\n",
      "Epochs: 5 Objective: 0.413493\n",
      "Epochs: 5 Accuracy: 0.900000\n",
      "Epochs: 6 Objective: 0.412893\n",
      "Epochs: 6 Accuracy: 0.900000\n",
      "Epochs: 7 Objective: 0.412262\n",
      "Epochs: 7 Accuracy: 0.900000\n",
      "Epochs: 8 Objective: 0.411646\n",
      "Epochs: 8 Accuracy: 0.900000\n",
      "Epochs: 9 Objective: 0.411531\n",
      "Epochs: 9 Accuracy: 0.900000\n",
      "SVM Online Simple Dataset Accuracy train: 0.900000 test: 0.900000\n"
     ]
    }
   ],
   "source": [
    "import lxmls.classifiers.svm as svmc\n",
    "svm = svmc.SVM()\n",
    "svm.regularizer = 1.0 # This is lambda\n",
    "params_svm_sd = svm.train(sd.train_X,sd.train_y)\n",
    "y_pred_train = svm.test(sd.train_X,params_svm_sd)\n",
    "acc_train = svm.evaluate(sd.train_y, y_pred_train)\n",
    "y_pred_test = svm.test(sd.test_X,params_svm_sd)\n",
    "acc_test = svm.evaluate(sd.test_y, y_pred_test)\n",
    "print \"SVM Online Simple Dataset Accuracy train: %f test: %f\"%(acc_train,acc_test)"
   ]
  },
  {
   "cell_type": "code",
   "execution_count": 159,
   "metadata": {
    "collapsed": true
   },
   "outputs": [],
   "source": [
    "fig,axis = sd.add_line(fig,axis,params_svm_sd,\"SVM\",\"orange\")"
   ]
  },
  {
   "cell_type": "code",
   "execution_count": 160,
   "metadata": {},
   "outputs": [
    {
     "name": "stdout",
     "output_type": "stream",
     "text": [
      "Epochs: 0 Objective: 1.351046\n",
      "Epochs: 0 Accuracy: 0.860625\n",
      "Epochs: 1 Objective: 0.806764\n",
      "Epochs: 1 Accuracy: 0.875000\n",
      "Epochs: 2 Objective: 0.766238\n",
      "Epochs: 2 Accuracy: 0.878750\n",
      "Epochs: 3 Objective: 0.749538\n",
      "Epochs: 3 Accuracy: 0.880000\n",
      "Epochs: 4 Objective: 0.744177\n",
      "Epochs: 4 Accuracy: 0.879375\n",
      "Epochs: 5 Objective: 0.737206\n",
      "Epochs: 5 Accuracy: 0.873125\n",
      "Epochs: 6 Objective: 0.734639\n",
      "Epochs: 6 Accuracy: 0.878750\n",
      "Epochs: 7 Objective: 0.731872\n",
      "Epochs: 7 Accuracy: 0.879375\n",
      "Epochs: 8 Objective: 0.729880\n",
      "Epochs: 8 Accuracy: 0.878750\n",
      "Epochs: 9 Objective: 0.728291\n",
      "Epochs: 9 Accuracy: 0.875000\n"
     ]
    }
   ],
   "source": [
    "params_svm_sc = svm.train(scr.train_X,scr.train_y)\n",
    "y_pred_train = svm.test(scr.train_X,params_svm_sc)\n",
    "acc_train = svm.evaluate(scr.train_y, y_pred_train)\n",
    "y_pred_test = svm.test(scr.test_X,params_svm_sc)\n",
    "acc_test = svm.evaluate(scr.test_y, y_pred_test)"
   ]
  },
  {
   "cell_type": "code",
   "execution_count": 162,
   "metadata": {},
   "outputs": [
    {
     "name": "stdout",
     "output_type": "stream",
     "text": [
      "SVM Online Amazon Sentiment Accuracy train: 0.874375 test: 0.802500\n"
     ]
    }
   ],
   "source": [
    "print \"SVM Online Amazon Sentiment Accuracy train: %f test: %f\"%(acc_train,acc_test)"
   ]
  },
  {
   "cell_type": "markdown",
   "metadata": {},
   "source": [
    "## Exercise 1.6\n",
    "\n",
    "Using the simple dataset run the different algorithms varying some characteristics of the data: like the number of points, variance (hence separability), class balance. Use function run all classifiers in file lab- s/run all classifiers.py which receives a dataset and plots all decisions boundaries and accuracies. What can you say about the methods when the amount of data increases? What about when the classes become too unbalanced?\n"
   ]
  },
  {
   "cell_type": "code",
   "execution_count": null,
   "metadata": {
    "collapsed": true
   },
   "outputs": [],
   "source": []
  }
 ],
 "metadata": {
  "kernelspec": {
   "display_name": "Python 3",
   "language": "python",
   "name": "python3"
  },
  "language_info": {
   "codemirror_mode": {
    "name": "ipython",
    "version": 3
   },
   "file_extension": ".py",
   "mimetype": "text/x-python",
   "name": "python",
   "nbconvert_exporter": "python",
   "pygments_lexer": "ipython3",
   "version": "3.5.3"
  }
 },
 "nbformat": 4,
 "nbformat_minor": 1
}
