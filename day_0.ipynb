{
 "cells": [
  {
   "cell_type": "markdown",
   "metadata": {},
   "source": [
    "# Problems to fix in day0 "
   ]
  },
  {
   "cell_type": "code",
   "execution_count": 778,
   "metadata": {
    "collapsed": false,
    "scrolled": true
   },
   "outputs": [
    {
     "name": "stdout",
     "output_type": "stream",
     "text": [
      "The autoreload extension is already loaded. To reload it, use:\n",
      "  %reload_ext autoreload\n"
     ]
    }
   ],
   "source": [
    "%matplotlib inline\n",
    "%load_ext autoreload\n",
    "%autoreload 2\n",
    "\n",
    "import sys\n",
    "import numpy as np\n",
    "sys.path.append(\"../lxmls-toolkit/\")\n",
    "import matplotlib.pyplot as plt"
   ]
  },
  {
   "cell_type": "markdown",
   "metadata": {},
   "source": [
    "## numpy ndarray\n",
    "\n",
    "This section gives several examples in order to facilitate the understanding of these objects.\n",
    "\n",
    "\n",
    "The number of array dimensions in a numpy array is ndim.\n",
    "\n",
    "If ```X``` is a L-ndim array then\n",
    "\n",
    "- ```X[k]``` is a (L-1)-ndim array (sometimes called **slice** from ```X```)\n",
    "\n",
    "\n",
    "### Some examples\n",
    "\n",
    "#### \"vector\" in numpy\n",
    "<pre>\n",
    "    X = np.array([1,2,3])\n",
    "    X.shape # this is (3,)\n",
    "    X.ndim # this is 1\n",
    "    \n",
    "    array([1, 2, 3])\n",
    "</pre>\n",
    "\n",
    " \n",
    "  \n",
    "#### \"matrix\" in numpy\n",
    "\n",
    "<pre>\n",
    "    X = np.array([[1,2,3]])\n",
    "    X.shape # this is (1,3)\n",
    "    X.ndim # this is 2\n",
    "\n",
    "    array([[1, 2, 3]])\n",
    "</pre>\n",
    "\n",
    "\n",
    "\n",
    "#### \"matrix\" in numpy\n",
    "\n",
    "- Our data will be represented in a (M,D) 2-ndim array\n",
    "- Each row of the array is a **datapoint** or **sample** from the dataset\n",
    "- If X is a 2-ndim array each X[k] is a 1-ndim array \n",
    "\n",
    "<pre>\n",
    "    X = np.array([[1,2,3],[4,5,6]])\n",
    "    X.shape # this is (2,3)\n",
    "    X.ndim # this is 2\n",
    "\n",
    "    array([[1, 2, 3],\n",
    "           [4, 5, 6]])    \n",
    "</pre>\n",
    "\n",
    "\n",
    "#### \"tensor\" in numpy\n",
    "\n",
    "- This could make sense when there is a spatial correlation. For example in the case of images.\n",
    "- If X is a 3-ndim array each X[k] is a 2-ndim array \n",
    "\n",
    "<pre>\n",
    "     X = np.array([[[1,2,4],[3,5,4]],[[10,20,40],[30,50,40]]])\n",
    "     X.shape # this is (2,2,3)\n",
    "     X.ndim # this is 2\n",
    "    \n",
    "     array([[[ 1,  2,  4],\n",
    "            [ 3,  5,  4]],\n",
    "            \n",
    "            [[10, 20, 40],\n",
    "             [30, 50, 40]]])\n",
    "</pre>\n",
    "\n",
    "\n"
   ]
  },
  {
   "cell_type": "code",
   "execution_count": 779,
   "metadata": {
    "collapsed": false
   },
   "outputs": [],
   "source": [
    "X = np.array([[1,2,3],[4,5,6]])"
   ]
  },
  {
   "cell_type": "code",
   "execution_count": 780,
   "metadata": {
    "collapsed": false
   },
   "outputs": [
    {
     "data": {
      "text/plain": [
       "2"
      ]
     },
     "execution_count": 780,
     "metadata": {},
     "output_type": "execute_result"
    }
   ],
   "source": [
    "X.ndim"
   ]
  },
  {
   "cell_type": "code",
   "execution_count": 781,
   "metadata": {
    "collapsed": false
   },
   "outputs": [
    {
     "data": {
      "text/plain": [
       "(2, 3)"
      ]
     },
     "execution_count": 781,
     "metadata": {},
     "output_type": "execute_result"
    }
   ],
   "source": [
    "X.shape"
   ]
  },
  {
   "cell_type": "code",
   "execution_count": 782,
   "metadata": {
    "collapsed": false
   },
   "outputs": [
    {
     "data": {
      "text/plain": [
       "(3,)"
      ]
     },
     "execution_count": 782,
     "metadata": {},
     "output_type": "execute_result"
    }
   ],
   "source": [
    "X[0].shape"
   ]
  },
  {
   "cell_type": "code",
   "execution_count": 783,
   "metadata": {
    "collapsed": false
   },
   "outputs": [
    {
     "data": {
      "text/plain": [
       "array([1, 2, 3])"
      ]
     },
     "execution_count": 783,
     "metadata": {},
     "output_type": "execute_result"
    }
   ],
   "source": [
    "X[0]"
   ]
  },
  {
   "cell_type": "code",
   "execution_count": 784,
   "metadata": {
    "collapsed": false
   },
   "outputs": [
    {
     "data": {
      "text/plain": [
       "1"
      ]
     },
     "execution_count": 784,
     "metadata": {},
     "output_type": "execute_result"
    }
   ],
   "source": [
    "X[0].ndim"
   ]
  },
  {
   "cell_type": "markdown",
   "metadata": {},
   "source": [
    "# Computing numerical approximation of derivatives"
   ]
  },
  {
   "cell_type": "code",
   "execution_count": 807,
   "metadata": {
    "collapsed": false
   },
   "outputs": [
    {
     "name": "stdout",
     "output_type": "stream",
     "text": [
      "\n",
      "exact gradient evaluated at 10  takes value 20\n",
      "\n",
      "numerical gradient evaluated at 10 takes value 20\n",
      "\n",
      "grad seems well implemented\n"
     ]
    }
   ],
   "source": [
    "def function(x):\n",
    "    return x**2\n",
    "\n",
    "def grad(x):\n",
    "    return 2*x\n",
    "\n",
    "def num_grad(function, x, h =0.0001):\n",
    "    return (function(x + h) - function(x - h))/(2*h)\n",
    "\n",
    "def check_grad(grad, numerical_grad, epsilon=0.00001):\n",
    "    if np.linalg.norm(grad - numerical_grad) < epsilon:\n",
    "        print \"grad seems well implemented\"\n",
    "        \n",
    "point = 10\n",
    "g = grad(point)\n",
    "print \"\\nexact gradient evaluated at\", point, \" takes value\", g\n",
    "\n",
    "num_g = num_grad(function, point)\n",
    "print \"\\nnumerical gradient evaluated at\", point, \"takes value\", g\n",
    "print \"\"\n",
    "check_grad(grad(10), num_grad(function,10))"
   ]
  },
  {
   "cell_type": "markdown",
   "metadata": {},
   "source": [
    "# Computing numerical approximation of gradients"
   ]
  },
  {
   "cell_type": "markdown",
   "metadata": {},
   "source": [
    "#### Toy example of gradient checking\n",
    "\n",
    "- Let us consider $f(x) = x_1^2 + 10  x_2 + 10 $\n",
    "- Compute the gradient of f\n",
    "- Evaluate the gradient of f \n",
    "- Check that the true gradient is close to the numerical gradient in several points"
   ]
  },
  {
   "cell_type": "code",
   "execution_count": 786,
   "metadata": {
    "collapsed": false
   },
   "outputs": [
    {
     "name": "stdout",
     "output_type": "stream",
     "text": [
      "gradient of f in point is [4, 10]\n",
      "distance between numerical and real gradient is  0.0\n"
     ]
    }
   ],
   "source": [
    "def f(x):\n",
    "    return x[0]**2 + 10*x[1]  + 10\n",
    "\n",
    "def grad_f(x):\n",
    "    return [2**x[0], 10]\n",
    "\n",
    "import scipy\n",
    "point = np.array([2,3])\n",
    "\n",
    "print \"gradient of f in point is\", grad_f(point)\n",
    "print \"distance between numerical and real gradient is \", scipy.optimize.check_grad(f, grad_f, point)"
   ]
  },
  {
   "cell_type": "markdown",
   "metadata": {},
   "source": [
    "#### Toy example gradient checking function with parameters"
   ]
  },
  {
   "cell_type": "code",
   "execution_count": 808,
   "metadata": {
    "collapsed": false
   },
   "outputs": [],
   "source": [
    "import scipy\n",
    "from scipy import optimize\n",
    "from scipy.optimize import check_grad"
   ]
  },
  {
   "cell_type": "code",
   "execution_count": 809,
   "metadata": {
    "collapsed": false
   },
   "outputs": [],
   "source": [
    "def func(x,params=10):\n",
    "    return x[0]**2 - 0.5 * x[1]**3 *params\n",
    "\n",
    "def grad(x,params=10):\n",
    "    return [2 * x[0], -1.5 * x[1]**2*params]"
   ]
  },
  {
   "cell_type": "code",
   "execution_count": 810,
   "metadata": {
    "collapsed": false
   },
   "outputs": [
    {
     "data": {
      "text/plain": [
       "2.384185791015625e-07"
      ]
     },
     "execution_count": 810,
     "metadata": {},
     "output_type": "execute_result"
    }
   ],
   "source": [
    "check_grad(func, grad, [1.5, -1.5])"
   ]
  },
  {
   "cell_type": "code",
   "execution_count": 811,
   "metadata": {
    "collapsed": true
   },
   "outputs": [],
   "source": [
    "def grad_f(x):\n",
    "    return [2**x[0], 10]"
   ]
  },
  {
   "cell_type": "code",
   "execution_count": 812,
   "metadata": {
    "collapsed": false
   },
   "outputs": [
    {
     "data": {
      "text/plain": [
       "0.0"
      ]
     },
     "execution_count": 812,
     "metadata": {},
     "output_type": "execute_result"
    }
   ],
   "source": [
    "import scipy\n",
    "scipy.optimize.check_grad(f, grad_f, np.array([2,3]))"
   ]
  },
  {
   "cell_type": "markdown",
   "metadata": {},
   "source": [
    "#### Implement your own numerical gradient checking"
   ]
  },
  {
   "cell_type": "code",
   "execution_count": 748,
   "metadata": {
    "collapsed": true
   },
   "outputs": [],
   "source": [
    "args = {\"x\":ones_X, \"y\":son_height}"
   ]
  },
  {
   "cell_type": "code",
   "execution_count": 749,
   "metadata": {
    "collapsed": false,
    "scrolled": true
   },
   "outputs": [
    {
     "data": {
      "text/plain": [
       "array([[ 0.69646919],\n",
       "       [ 0.28613933]])"
      ]
     },
     "execution_count": 749,
     "metadata": {},
     "output_type": "execute_result"
    }
   ],
   "source": [
    "w"
   ]
  },
  {
   "cell_type": "code",
   "execution_count": 750,
   "metadata": {
    "collapsed": false
   },
   "outputs": [],
   "source": [
    "#num_grad_w(f, w, args)"
   ]
  },
  {
   "cell_type": "code",
   "execution_count": null,
   "metadata": {
    "collapsed": true
   },
   "outputs": [],
   "source": []
  },
  {
   "cell_type": "markdown",
   "metadata": {},
   "source": [
    "## Exercise 0.14\n",
    "\n",
    "Consider the linear regression problem (ordinary least squares) on the Galton dataset, with a single response variable\n",
    "$$\n",
    "y = \\textbf{x}^T\\textbf{w} + \\epsilon\n",
    "$$\n",
    "\n",
    "This is a general problem where\n",
    "\n",
    "- $\\textbf{x}$ is a $D$ dimensional vector\n",
    "- $y$ is a scalar\n",
    "\n",
    "\n",
    "The linear regression problem is, given a set \n",
    "$$\n",
    "\\{y^{(m)}\\}_{m=1}^M\n",
    "$$\n",
    "\n",
    "of samples of $y$ and the corresponding $\\textbf{x}^{(m)}$ vectors, estimate $\\textbf{w}$ to minimise the sum of the $\\epsilon$ variables. \n",
    "\n",
    "Traditionally this is solved analytically to obtain a closed form solution (although this is not the way in which it should be computed in this exercise, linear algebra packages have an optimised solver, with numpy, use numpy.linalg.lstsq).\n",
    "\n",
    "\n",
    "We can code the prediction of our linear model using a dot product already implemented\n",
    "in ```np.dot```. In order to do it we can append a column full of ones. \n",
    "\n",
    "#### Notes about the implementation for the galton dataset\n",
    "- We want to model son heights from father heights.\n",
    "\n",
    "\n",
    "- We will denote the data that has the mentioned appended column as ```ones_X```\n",
    "    - ```ones_X.shape``` should have shape ```(928, 2)```\n",
    "\n",
    "\n",
    "- ```ones_x``` will denote a single row of ```ones_X``` which is a $D+1$ dimensional vector\n",
    "  - Notice that ```ones_x``` can be any for of ```ones_X```, for example the k'th row ```\n",
    "  ones_X[k]```.\n",
    "  - It is very important to understand the difference between  ```\n",
    "  ones_X[k]``` and ```ones_X[k:k+1]```. \n",
    "      - ```ones_X[k]``` has ndim 1\n",
    "      - ```ones_X[k:k+1]``` has ndim 2\n",
    "   \n",
    "   \n",
    "- $y$ is a scalar\n",
    "\n",
    "\n"
   ]
  },
  {
   "cell_type": "code",
   "execution_count": 787,
   "metadata": {
    "collapsed": false
   },
   "outputs": [],
   "source": [
    "import lxmls\n",
    "import lxmls.readers.galton as galton"
   ]
  },
  {
   "cell_type": "code",
   "execution_count": 788,
   "metadata": {
    "collapsed": true
   },
   "outputs": [],
   "source": [
    "galton_data = galton.load()"
   ]
  },
  {
   "cell_type": "code",
   "execution_count": 789,
   "metadata": {
    "collapsed": false
   },
   "outputs": [],
   "source": [
    "#father_height = galton_data[\"father_height\"]\n",
    "#son_height = galton_data[\"son_height\"]\n",
    "\n",
    "father_height = galton_data[:,0].reshape((len(galton_data),1))\n",
    "son_height = galton_data[:,1].reshape((len(galton_data),1))"
   ]
  },
  {
   "cell_type": "code",
   "execution_count": 790,
   "metadata": {
    "collapsed": false
   },
   "outputs": [
    {
     "data": {
      "text/plain": [
       "((928, 1), (928, 1))"
      ]
     },
     "execution_count": 790,
     "metadata": {},
     "output_type": "execute_result"
    }
   ],
   "source": [
    "father_height.shape, son_height.shape"
   ]
  },
  {
   "cell_type": "markdown",
   "metadata": {},
   "source": [
    "#### Append the column full of ones for the bias term"
   ]
  },
  {
   "cell_type": "code",
   "execution_count": 791,
   "metadata": {
    "collapsed": false
   },
   "outputs": [],
   "source": [
    "ones_X = np.hstack((np.ones((father_height.shape[0],1)), father_height))"
   ]
  },
  {
   "cell_type": "code",
   "execution_count": 792,
   "metadata": {
    "collapsed": false
   },
   "outputs": [
    {
     "data": {
      "text/plain": [
       "(928, 2)"
      ]
     },
     "execution_count": 792,
     "metadata": {},
     "output_type": "execute_result"
    }
   ],
   "source": [
    "ones_X.shape"
   ]
  },
  {
   "cell_type": "code",
   "execution_count": 793,
   "metadata": {
    "collapsed": false
   },
   "outputs": [
    {
     "data": {
      "text/plain": [
       "array([[  1. ,  70.5],\n",
       "       [  1. ,  68.5],\n",
       "       [  1. ,  65.5],\n",
       "       ..., \n",
       "       [  1. ,  69.5],\n",
       "       [  1. ,  69.5],\n",
       "       [  1. ,  69.5]])"
      ]
     },
     "execution_count": 793,
     "metadata": {},
     "output_type": "execute_result"
    }
   ],
   "source": [
    "ones_X"
   ]
  },
  {
   "cell_type": "code",
   "execution_count": 794,
   "metadata": {
    "collapsed": true
   },
   "outputs": [],
   "source": [
    "Y = son_height"
   ]
  },
  {
   "cell_type": "markdown",
   "metadata": {},
   "source": [
    "### 0.14\n",
    "\n",
    "\n",
    "##### 0. Complete the function that produces the predictions for a given observation and a set of weights $w_j$ \n",
    "        \n",
    "<pre>\n",
    "def predict(X,w):\n",
    "    ## WRITE HERE\n",
    "    return ##something\n",
    "</pre>\n",
    "\n",
    "#### Predicting using the linear model\n",
    "\n",
    "\n",
    "Let us assume we have a dataset with\n",
    "\n",
    "- $M$ datapoints (number of rows).\n",
    "- $D$ features (number of columns)\n",
    "\n",
    "In order to do this exercise we will add a column full of ones at position 0 and get a $M \\times (D+1)$.\n",
    "\n",
    "The predict function will return the prediction of the linear model given\n",
    "\n",
    "- An input which can be \n",
    "    - A single $ (D+1) \\times 1$ row vector\n",
    "    - A matrix of the form $batch \\times (D+1)$ where $batch$ is the number of rows in the matrix.\n",
    "    \n",
    "- A vector of weights of size $D$\n",
    "\n",
    "Notice that we have created a new column full of ones  to take into account the bias term of the regressor.\n",
    "\n",
    "\n"
   ]
  },
  {
   "cell_type": "code",
   "execution_count": 795,
   "metadata": {
    "collapsed": false
   },
   "outputs": [
    {
     "data": {
      "text/plain": [
       "array([[  1. ,  70.5],\n",
       "       [  1. ,  68.5],\n",
       "       [  1. ,  65.5],\n",
       "       ..., \n",
       "       [  1. ,  69.5],\n",
       "       [  1. ,  69.5],\n",
       "       [  1. ,  69.5]])"
      ]
     },
     "execution_count": 795,
     "metadata": {},
     "output_type": "execute_result"
    }
   ],
   "source": [
    "ones_X"
   ]
  },
  {
   "cell_type": "code",
   "execution_count": 796,
   "metadata": {
    "collapsed": false
   },
   "outputs": [
    {
     "data": {
      "text/plain": [
       "array([[ 0.22685145],\n",
       "       [ 0.55131477]])"
      ]
     },
     "execution_count": 796,
     "metadata": {},
     "output_type": "execute_result"
    }
   ],
   "source": [
    "w = np.random.random((2,1))\n",
    "w"
   ]
  },
  {
   "cell_type": "code",
   "execution_count": 797,
   "metadata": {
    "collapsed": false
   },
   "outputs": [
    {
     "data": {
      "text/plain": [
       "(2, 1)"
      ]
     },
     "execution_count": 797,
     "metadata": {},
     "output_type": "execute_result"
    }
   ],
   "source": [
    "w.shape"
   ]
  },
  {
   "cell_type": "code",
   "execution_count": 798,
   "metadata": {
    "collapsed": false
   },
   "outputs": [
    {
     "data": {
      "text/plain": [
       "array([[ 39.09454267],\n",
       "       [ 37.99191314],\n",
       "       [ 36.33796883]])"
      ]
     },
     "execution_count": 798,
     "metadata": {},
     "output_type": "execute_result"
    }
   ],
   "source": [
    "np.dot(ones_X[0:3],w)"
   ]
  },
  {
   "cell_type": "code",
   "execution_count": 799,
   "metadata": {
    "collapsed": true
   },
   "outputs": [],
   "source": [
    "def predict(X,w):\n",
    "    return np.dot(X,w)"
   ]
  },
  {
   "cell_type": "code",
   "execution_count": 800,
   "metadata": {
    "collapsed": false
   },
   "outputs": [
    {
     "name": "stdout",
     "output_type": "stream",
     "text": [
      "\n",
      "test passed: your predict function seems to be OK \n"
     ]
    }
   ],
   "source": [
    "### test\n",
    "y_hat_3  = np.array([[ 20.8692923 ],\n",
    "                     [ 20.29701363],\n",
    "                     [ 19.43859562]])\n",
    "\n",
    "np.random.seed(123)\n",
    "w = np.random.random((2,1))\n",
    "\n",
    "if np.linalg.norm(y_hat_3 - predict(ones_X[0:3],w))<0.00001:\n",
    "    print \"\\ntest passed: your predict function seems to be OK \""
   ]
  },
  {
   "cell_type": "markdown",
   "metadata": {},
   "source": [
    "##### 1. Complete the function that compute the cost function for a given set of data and weights of the linear model \n"
   ]
  },
  {
   "cell_type": "code",
   "execution_count": 801,
   "metadata": {
    "collapsed": true
   },
   "outputs": [],
   "source": [
    "def compute_cost(Y, Y_hat):\n",
    "    cost = 0\n",
    "    num_observations = Y.shape[0]\n",
    "    \n",
    "    for y,y_hat in zip(Y, Y_hat):\n",
    "        cost += (y - y_hat)**2\n",
    "        \n",
    "    # vectorized done\n",
    "    # np.mean( (Y_hat - Y)**2, axis=0)\n",
    "    return  cost/num_observations"
   ]
  },
  {
   "cell_type": "code",
   "execution_count": 802,
   "metadata": {
    "collapsed": true
   },
   "outputs": [],
   "source": [
    "np.random.seed(123)\n",
    "w = np.random.random((2,1))\n",
    "Y_hat = predict(ones_X, w) "
   ]
  },
  {
   "cell_type": "code",
   "execution_count": 803,
   "metadata": {
    "collapsed": false
   },
   "outputs": [
    {
     "name": "stdout",
     "output_type": "stream",
     "text": [
      "\n",
      "test passed: your predict function seems to be OK \n"
     ]
    }
   ],
   "source": [
    "### test\n",
    "np.random.seed(123)\n",
    "w = np.random.random((2,1))\n",
    "\n",
    "Y_hat = predict(ones_X, w) \n",
    "\n",
    "if np.linalg.norm( compute_cost(Y_hat, Y)- 2294.68652697)<0.00001:\n",
    "    print \"\\ntest passed: your predict function seems to be OK \""
   ]
  },
  {
   "cell_type": "markdown",
   "metadata": {},
   "source": [
    "##### 2. Derive the partial derivative of the error with respecto to a weight $w_j$ "
   ]
  },
  {
   "cell_type": "code",
   "execution_count": 763,
   "metadata": {
    "collapsed": true
   },
   "outputs": [],
   "source": [
    "def compute_partial_error_wrt_j(X, Y, weights, j ):\n",
    "    return np.mean(2 * (predict(X,weights) - Y) * X[:,[j]], axis=0)"
   ]
  },
  {
   "cell_type": "code",
   "execution_count": 764,
   "metadata": {
    "collapsed": false
   },
   "outputs": [],
   "source": [
    "def compute_grad(X, Y, weights):\n",
    "    if X.ndim == 1:\n",
    "        X = np.array([X])\n",
    "        \n",
    "    # assume rows in X are datapoints\n",
    "    num_features = X.shape[1]\n",
    "    num_examples = X.shape[0]\n",
    "    \n",
    "    #grad_acum = np.zeros(num_features)\n",
    "    #import pdb;pdb.set_trace()\n",
    "    #for x,y in zip(X, Y):\n",
    "    #    for j in range(num_features):\n",
    "    #        grad_acum[j] += compute_partial_error_wrt_j(x, y, w, j)\n",
    "    #grad  = (1./ num_examples) * grad_acum\n",
    "    \n",
    "    grad = np.zeros(num_features)\n",
    "    for j in range(num_features):\n",
    "        #X_j = X[:,j].reshape((num_examples,1)\n",
    "        #grad[j] = np.mean(2*(predict(X,w) - Y) * X_j, axis=0)[0]\n",
    "        import pdb;pdb.set_trace()\n",
    "        grad[j] = compute_partial_error_wrt_j(X, Y, weights, j )\n",
    "        \n",
    "    return grad"
   ]
  },
  {
   "cell_type": "markdown",
   "metadata": {
    "collapsed": true
   },
   "source": [
    "## Optimizing weights using gradient descent"
   ]
  },
  {
   "cell_type": "code",
   "execution_count": 751,
   "metadata": {
    "collapsed": false
   },
   "outputs": [],
   "source": [
    "def predict(X,w):\n",
    "    return np.dot(X,w)"
   ]
  },
  {
   "cell_type": "code",
   "execution_count": 752,
   "metadata": {
    "collapsed": false
   },
   "outputs": [
    {
     "data": {
      "text/plain": [
       "array([[ 20.8692923 ],\n",
       "       [ 20.29701363],\n",
       "       [ 19.43859562]])"
      ]
     },
     "execution_count": 752,
     "metadata": {},
     "output_type": "execute_result"
    }
   ],
   "source": [
    "np.dot(ones_X[0:3],w)"
   ]
  },
  {
   "cell_type": "code",
   "execution_count": 753,
   "metadata": {
    "collapsed": false
   },
   "outputs": [
    {
     "data": {
      "text/plain": [
       "(928, 1)"
      ]
     },
     "execution_count": 753,
     "metadata": {},
     "output_type": "execute_result"
    }
   ],
   "source": [
    "predict(ones_X,w).shape"
   ]
  },
  {
   "cell_type": "code",
   "execution_count": 754,
   "metadata": {
    "collapsed": true
   },
   "outputs": [],
   "source": [
    "def compute_partial_error_wrt_j(X, Y, weights, j ):\n",
    "    return np.mean(2 * (predict(X,weights) - Y) * X[:,[j]], axis=0)"
   ]
  },
  {
   "cell_type": "code",
   "execution_count": 755,
   "metadata": {
    "collapsed": true
   },
   "outputs": [],
   "source": [
    "def compute_cost(Y, Y_hat):\n",
    "    return np.mean( (Y_hat - Y)**2, axis=0)"
   ]
  },
  {
   "cell_type": "code",
   "execution_count": 756,
   "metadata": {
    "collapsed": true
   },
   "outputs": [],
   "source": [
    "def compute_cost(x, y, w):\n",
    "    \"\"\"\n",
    "    MSE\n",
    "    \"\"\"\n",
    "    predictions = np.dot(x, w)\n",
    "    return np.mean((predictions-y)**2)"
   ]
  },
  {
   "cell_type": "code",
   "execution_count": 757,
   "metadata": {
    "collapsed": false
   },
   "outputs": [],
   "source": [
    "def compute_gradient(X, Y, weights):\n",
    "    if X.ndim == 1:\n",
    "        X = np.array([X])\n",
    "        \n",
    "    # assume rows in X are datapoints\n",
    "    num_features = X.shape[1]\n",
    "\n",
    "    grad = np.zeros((num_features,1))\n",
    "    for j in range(num_features):\n",
    "        grad[j] = compute_partial_error_wrt_j(X, Y, weights, j )\n",
    "        \n",
    "    return grad"
   ]
  },
  {
   "cell_type": "markdown",
   "metadata": {},
   "source": [
    "### Gradient checking\n",
    "\n",
    "We want to ensure that the computation of the cost with respect to the weights is correct. \n",
    "\n",
    "We will build a function that \n",
    "\n",
    "- Takes as input a function ``func`` and a point where we will evaluate the gradient of ``func``.\n",
    "- Computes an approximation of the gradient of a given function\n"
   ]
  },
  {
   "cell_type": "code",
   "execution_count": 758,
   "metadata": {
    "collapsed": true
   },
   "outputs": [],
   "source": [
    "def num_grad_w(func, w, x, y ,e = 1e-5):\n",
    "    \"\"\"\n",
    "    Compute the gradient of the func with respect to w.\n",
    "    The function returns a gradient vector of the same size as w\n",
    "    \"\"\"    \n",
    "    dim = w.shape[0]\n",
    "    grads = []\n",
    "    perturbation_vector  = np.zeros(w.shape)\n",
    "    \n",
    "    for i in range(dim):\n",
    "        # Perturbate the current dimension\n",
    "        perturbation_vector[i] = e\n",
    "        \n",
    "        # Compute the slope: (point+epsilon - point-epsilon)/2epsilon\n",
    "        err_a = func(x, y, w + perturbation_vector)\n",
    "        err_b = func(x, y, w - perturbation_vector)\n",
    "        grad = (err_a - err_b) / (2*e)\n",
    "        perturbation_vector[i] = 0\n",
    "\n",
    "        grads.append(grad)\n",
    "    return grads"
   ]
  },
  {
   "cell_type": "code",
   "execution_count": 759,
   "metadata": {
    "collapsed": false
   },
   "outputs": [
    {
     "data": {
      "text/plain": [
       "array([[  -95.69268136],\n",
       "       [-6538.89239773]])"
      ]
     },
     "execution_count": 759,
     "metadata": {},
     "output_type": "execute_result"
    }
   ],
   "source": [
    "num_features = ones_X.shape[1] \n",
    "np.random.seed(123)\n",
    "weights = np.random.random((num_features,1))\n",
    "\n",
    "## grad using exact formula\n",
    "exact_gradient = compute_gradient(ones_X, son_height, weights)\n",
    "exact_gradient"
   ]
  },
  {
   "cell_type": "code",
   "execution_count": 760,
   "metadata": {
    "collapsed": false
   },
   "outputs": [
    {
     "data": {
      "text/plain": [
       "[-95.692681361470008, -6538.892397725248]"
      ]
     },
     "execution_count": 760,
     "metadata": {},
     "output_type": "execute_result"
    }
   ],
   "source": [
    "num_grad = num_grad_w(compute_cost, weights, x=ones_X, y=son_height)\n",
    "num_grad"
   ]
  },
  {
   "cell_type": "code",
   "execution_count": 761,
   "metadata": {
    "collapsed": false
   },
   "outputs": [
    {
     "ename": "TypeError",
     "evalue": "norm() takes at least 1 argument (0 given)",
     "output_type": "error",
     "traceback": [
      "\u001b[0;31m---------------------------------------------------------------------------\u001b[0m",
      "\u001b[0;31mTypeError\u001b[0m                                 Traceback (most recent call last)",
      "\u001b[0;32m<ipython-input-761-d2ea802a99ba>\u001b[0m in \u001b[0;36m<module>\u001b[0;34m()\u001b[0m\n\u001b[0;32m----> 1\u001b[0;31m \u001b[0mnp\u001b[0m\u001b[0;34m.\u001b[0m\u001b[0mlinalg\u001b[0m\u001b[0;34m.\u001b[0m\u001b[0mnorm\u001b[0m\u001b[0;34m(\u001b[0m\u001b[0;34m)\u001b[0m\u001b[0;34m\u001b[0m\u001b[0m\n\u001b[0m",
      "\u001b[0;31mTypeError\u001b[0m: norm() takes at least 1 argument (0 given)"
     ]
    }
   ],
   "source": [
    "np.linalg.norm()"
   ]
  },
  {
   "cell_type": "markdown",
   "metadata": {},
   "source": [
    "### Gradient descent"
   ]
  },
  {
   "cell_type": "code",
   "execution_count": 707,
   "metadata": {
    "collapsed": true
   },
   "outputs": [],
   "source": [
    "# given w_j\n",
    "cost_evolution = []\n",
    "def gradient_descent(num_iterations, X, Y, learning_rate=0.0001):\n",
    "    # add column full of ones to X this allow us to take into \n",
    "    # account an offset (or bias) term for the linear model\n",
    "    num_features = X.shape[1] \n",
    "    weights = np.random.random((num_features,1))\n",
    "    \n",
    "    for it in range(num_iterations):\n",
    "        weights = weights - learning_rate * compute_gradient(X, Y, weights)\n",
    "        Y_hat = predict(X,weights)\n",
    "        #cost = compute_cost(Y,Y_hat)\n",
    "        cost = compute_cost(Y,X,weights)\n",
    "        cost_evolution.append(cost)\n",
    "        sys.stdout.write(\"\\rw_hat\" + str(weights[0]) +\" \"+ str(weights[1]) + \\\n",
    "                         \" cost iter \" +  str(it) + \" is: \" + str(cost[0]) )\n",
    "        sys.stdout.flush()\n",
    "        \n",
    "    w_hat = weights\n",
    "    return w_hat"
   ]
  },
  {
   "cell_type": "code",
   "execution_count": 708,
   "metadata": {
    "collapsed": false
   },
   "outputs": [
    {
     "ename": "ValueError",
     "evalue": "shapes (928,1) and (2,1) not aligned: 1 (dim 1) != 2 (dim 0)",
     "output_type": "error",
     "traceback": [
      "\u001b[0;31m---------------------------------------------------------------------------\u001b[0m",
      "\u001b[0;31mValueError\u001b[0m                                Traceback (most recent call last)",
      "\u001b[0;32m<ipython-input-708-9efe69ad075b>\u001b[0m in \u001b[0;36m<module>\u001b[0;34m()\u001b[0m\n\u001b[1;32m      4\u001b[0m \u001b[0;31m#  sys.stdout.write(\"\\rw_hat\" + str(weights) + \"cost iter \" +  str(it) + \" is: \" + str(cost[0]) )\u001b[0m\u001b[0;34m\u001b[0m\u001b[0;34m\u001b[0m\u001b[0m\n\u001b[1;32m      5\u001b[0m \u001b[0;34m\u001b[0m\u001b[0m\n\u001b[0;32m----> 6\u001b[0;31m \u001b[0mw_hat\u001b[0m \u001b[0;34m=\u001b[0m \u001b[0mgradient_descent\u001b[0m\u001b[0;34m(\u001b[0m\u001b[0;36m1000\u001b[0m\u001b[0;34m,\u001b[0m \u001b[0mones_X\u001b[0m\u001b[0;34m,\u001b[0m \u001b[0mY\u001b[0m\u001b[0;34m,\u001b[0m\u001b[0mlearning_rate\u001b[0m \u001b[0;34m=\u001b[0m \u001b[0;36m0.00001\u001b[0m\u001b[0;34m)\u001b[0m\u001b[0;34m\u001b[0m\u001b[0m\n\u001b[0m",
      "\u001b[0;32m<ipython-input-707-d754fe575201>\u001b[0m in \u001b[0;36mgradient_descent\u001b[0;34m(num_iterations, X, Y, learning_rate)\u001b[0m\n\u001b[1;32m     11\u001b[0m         \u001b[0mY_hat\u001b[0m \u001b[0;34m=\u001b[0m \u001b[0mpredict\u001b[0m\u001b[0;34m(\u001b[0m\u001b[0mX\u001b[0m\u001b[0;34m,\u001b[0m\u001b[0mweights\u001b[0m\u001b[0;34m)\u001b[0m\u001b[0;34m\u001b[0m\u001b[0m\n\u001b[1;32m     12\u001b[0m         \u001b[0;31m#cost = compute_cost(Y,Y_hat)\u001b[0m\u001b[0;34m\u001b[0m\u001b[0;34m\u001b[0m\u001b[0m\n\u001b[0;32m---> 13\u001b[0;31m         \u001b[0mcost\u001b[0m \u001b[0;34m=\u001b[0m \u001b[0mcompute_cost\u001b[0m\u001b[0;34m(\u001b[0m\u001b[0mY\u001b[0m\u001b[0;34m,\u001b[0m\u001b[0mX\u001b[0m\u001b[0;34m,\u001b[0m\u001b[0mweights\u001b[0m\u001b[0;34m)\u001b[0m\u001b[0;34m\u001b[0m\u001b[0m\n\u001b[0m\u001b[1;32m     14\u001b[0m         \u001b[0mcost_evolution\u001b[0m\u001b[0;34m.\u001b[0m\u001b[0mappend\u001b[0m\u001b[0;34m(\u001b[0m\u001b[0mcost\u001b[0m\u001b[0;34m)\u001b[0m\u001b[0;34m\u001b[0m\u001b[0m\n\u001b[1;32m     15\u001b[0m         \u001b[0msys\u001b[0m\u001b[0;34m.\u001b[0m\u001b[0mstdout\u001b[0m\u001b[0;34m.\u001b[0m\u001b[0mwrite\u001b[0m\u001b[0;34m(\u001b[0m\u001b[0;34m\"\\rw_hat\"\u001b[0m \u001b[0;34m+\u001b[0m \u001b[0mstr\u001b[0m\u001b[0;34m(\u001b[0m\u001b[0mweights\u001b[0m\u001b[0;34m[\u001b[0m\u001b[0;36m0\u001b[0m\u001b[0;34m]\u001b[0m\u001b[0;34m)\u001b[0m \u001b[0;34m+\u001b[0m\u001b[0;34m\" \"\u001b[0m\u001b[0;34m+\u001b[0m \u001b[0mstr\u001b[0m\u001b[0;34m(\u001b[0m\u001b[0mweights\u001b[0m\u001b[0;34m[\u001b[0m\u001b[0;36m1\u001b[0m\u001b[0;34m]\u001b[0m\u001b[0;34m)\u001b[0m \u001b[0;34m+\u001b[0m                          \u001b[0;34m\" cost iter \"\u001b[0m \u001b[0;34m+\u001b[0m  \u001b[0mstr\u001b[0m\u001b[0;34m(\u001b[0m\u001b[0mit\u001b[0m\u001b[0;34m)\u001b[0m \u001b[0;34m+\u001b[0m \u001b[0;34m\" is: \"\u001b[0m \u001b[0;34m+\u001b[0m \u001b[0mstr\u001b[0m\u001b[0;34m(\u001b[0m\u001b[0mcost\u001b[0m\u001b[0;34m[\u001b[0m\u001b[0;36m0\u001b[0m\u001b[0;34m]\u001b[0m\u001b[0;34m)\u001b[0m \u001b[0;34m)\u001b[0m\u001b[0;34m\u001b[0m\u001b[0m\n",
      "\u001b[0;32m<ipython-input-695-c646ab550550>\u001b[0m in \u001b[0;36mcompute_cost\u001b[0;34m(x, y, w)\u001b[0m\n\u001b[1;32m      3\u001b[0m     \u001b[0mMSE\u001b[0m\u001b[0;34m\u001b[0m\u001b[0m\n\u001b[1;32m      4\u001b[0m     \"\"\"\n\u001b[0;32m----> 5\u001b[0;31m     \u001b[0mpredictions\u001b[0m \u001b[0;34m=\u001b[0m \u001b[0mnp\u001b[0m\u001b[0;34m.\u001b[0m\u001b[0mdot\u001b[0m\u001b[0;34m(\u001b[0m\u001b[0mx\u001b[0m\u001b[0;34m,\u001b[0m \u001b[0mw\u001b[0m\u001b[0;34m)\u001b[0m\u001b[0;34m\u001b[0m\u001b[0m\n\u001b[0m\u001b[1;32m      6\u001b[0m     \u001b[0;32mreturn\u001b[0m \u001b[0mnp\u001b[0m\u001b[0;34m.\u001b[0m\u001b[0mmean\u001b[0m\u001b[0;34m(\u001b[0m\u001b[0;34m(\u001b[0m\u001b[0mpredictions\u001b[0m\u001b[0;34m-\u001b[0m\u001b[0my\u001b[0m\u001b[0;34m)\u001b[0m\u001b[0;34m**\u001b[0m\u001b[0;36m2\u001b[0m\u001b[0;34m)\u001b[0m\u001b[0;34m\u001b[0m\u001b[0m\n",
      "\u001b[0;31mValueError\u001b[0m: shapes (928,1) and (2,1) not aligned: 1 (dim 1) != 2 (dim 0)"
     ]
    }
   ],
   "source": [
    "np.random.seed(123)\n",
    "weights = np.random.random((2,1))/10\n",
    "weights[0] = 0\n",
    "#  sys.stdout.write(\"\\rw_hat\" + str(weights) + \"cost iter \" +  str(it) + \" is: \" + str(cost[0]) )\n",
    "\n",
    "w_hat = gradient_descent(1000, ones_X, Y,learning_rate = 0.00001)"
   ]
  },
  {
   "cell_type": "code",
   "execution_count": 562,
   "metadata": {
    "collapsed": false
   },
   "outputs": [],
   "source": [
    "w_hat_lstsq = np.linalg.lstsq(a=ones_X, b= son_height)[0]"
   ]
  },
  {
   "cell_type": "code",
   "execution_count": 372,
   "metadata": {
    "collapsed": false,
    "scrolled": true
   },
   "outputs": [
    {
     "data": {
      "text/plain": [
       "array([[ 23.94153018],\n",
       "       [  0.64629058]])"
      ]
     },
     "execution_count": 372,
     "metadata": {},
     "output_type": "execute_result"
    }
   ],
   "source": [
    "w_hat_lstsq"
   ]
  },
  {
   "cell_type": "markdown",
   "metadata": {},
   "source": [
    "## Error map\n",
    "\n",
    "for each "
   ]
  },
  {
   "cell_type": "code",
   "execution_count": null,
   "metadata": {
    "collapsed": true
   },
   "outputs": [],
   "source": []
  },
  {
   "cell_type": "markdown",
   "metadata": {},
   "source": [
    "### plotting the regression"
   ]
  },
  {
   "cell_type": "code",
   "execution_count": 296,
   "metadata": {
    "collapsed": false
   },
   "outputs": [
    {
     "data": {
      "text/plain": [
       "[<matplotlib.lines.Line2D at 0x11545c290>]"
      ]
     },
     "execution_count": 296,
     "metadata": {},
     "output_type": "execute_result"
    },
    {
     "data": {
      "image/png": "[encoded data removed]",
      "text/plain": [
       "<matplotlib.figure.Figure at 0x11545c110>"
      ]
     },
     "metadata": {},
     "output_type": "display_data"
    }
   ],
   "source": [
    "plt.plot(father_height,son_height, \".\")\n",
    "plt.title(\"We nailed it??\")\n",
    "maxim, minim = int(np.max(father_height)), int(np.min(father_height))\n",
    "xvals = [vec for vec in np.array(range(minim-1, maxim+1)) ]\n",
    "\n",
    "# Gradient descent solution\n",
    "yvals = [ w_hat[1]  * xval + w_hat[0] for xval in xvals]\n",
    "\n",
    "# solution from closed form\n",
    "yvals2 = [ w_hat_lstsq[1]  * xval + w_hat_lstsq[0] for xval in xvals]\n",
    "\n",
    "plt.plot(xvals, yvals, '--', c='k',linewidth=2)\n",
    "plt.plot(xvals, yvals2, '--', c='r',linewidth=2)"
   ]
  },
  {
   "cell_type": "markdown",
   "metadata": {},
   "source": [
    "### Add jitter to  see points that are \"superposed\""
   ]
  },
  {
   "cell_type": "code",
   "execution_count": 398,
   "metadata": {
    "collapsed": false
   },
   "outputs": [
    {
     "data": {
      "text/plain": [
       "[<matplotlib.lines.Line2D at 0x116324950>]"
      ]
     },
     "execution_count": 398,
     "metadata": {},
     "output_type": "execute_result"
    },
    {
     "data": {
      "image/png": "[encoded data removed]",
      "text/plain": [
       "<matplotlib.figure.Figure at 0x11506d6d0>"
      ]
     },
     "metadata": {},
     "output_type": "display_data"
    }
   ],
   "source": [
    "plt.plot(father_height+np.random.random(father_height.shape)/2.,\n",
    "         son_height+np.random.random(father_height.shape)/2., \".\")\n",
    "plt.title(\"We nailed it??\")\n",
    "maxim, minim = int(np.max(father_height)), int(np.min(father_height))\n",
    "xvals = [vec for vec in np.array(range(minim-1, maxim+1)) ]\n",
    "\n",
    "# Gradient descent solution\n",
    "yvals = [ w_hat[1]  * xval + w_hat[0] for xval in xvals]\n",
    "\n",
    "# solution from closed form\n",
    "yvals2 = [ w_hat_lstsq[1]  * xval + w_hat_lstsq[0] for xval in xvals]\n",
    "\n",
    "plt.plot(xvals, yvals, '--', c='k',linewidth=2)\n",
    "plt.plot(xvals, yvals2, '--', c='r',linewidth=2)"
   ]
  },
  {
   "cell_type": "code",
   "execution_count": null,
   "metadata": {
    "collapsed": true
   },
   "outputs": [],
   "source": []
  },
  {
   "cell_type": "code",
   "execution_count": null,
   "metadata": {
    "collapsed": true
   },
   "outputs": [],
   "source": []
  },
  {
   "cell_type": "code",
   "execution_count": null,
   "metadata": {
    "collapsed": true
   },
   "outputs": [],
   "source": []
  },
  {
   "cell_type": "code",
   "execution_count": null,
   "metadata": {
    "collapsed": true
   },
   "outputs": [],
   "source": []
  },
  {
   "cell_type": "code",
   "execution_count": null,
   "metadata": {
    "collapsed": true
   },
   "outputs": [],
   "source": []
  },
  {
   "cell_type": "code",
   "execution_count": null,
   "metadata": {
    "collapsed": true
   },
   "outputs": [],
   "source": []
  },
  {
   "cell_type": "code",
   "execution_count": null,
   "metadata": {
    "collapsed": true
   },
   "outputs": [],
   "source": []
  },
  {
   "cell_type": "code",
   "execution_count": null,
   "metadata": {
    "collapsed": true
   },
   "outputs": [],
   "source": []
  },
  {
   "cell_type": "code",
   "execution_count": null,
   "metadata": {
    "collapsed": true
   },
   "outputs": [],
   "source": []
  },
  {
   "cell_type": "code",
   "execution_count": null,
   "metadata": {
    "collapsed": true
   },
   "outputs": [],
   "source": []
  },
  {
   "cell_type": "code",
   "execution_count": null,
   "metadata": {
    "collapsed": true
   },
   "outputs": [],
   "source": []
  },
  {
   "cell_type": "code",
   "execution_count": null,
   "metadata": {
    "collapsed": true
   },
   "outputs": [],
   "source": []
  },
  {
   "cell_type": "code",
   "execution_count": null,
   "metadata": {
    "collapsed": true
   },
   "outputs": [],
   "source": []
  },
  {
   "cell_type": "code",
   "execution_count": null,
   "metadata": {
    "collapsed": true
   },
   "outputs": [],
   "source": []
  },
  {
   "cell_type": "code",
   "execution_count": null,
   "metadata": {
    "collapsed": true
   },
   "outputs": [],
   "source": []
  },
  {
   "cell_type": "code",
   "execution_count": null,
   "metadata": {
    "collapsed": true
   },
   "outputs": [],
   "source": []
  },
  {
   "cell_type": "code",
   "execution_count": null,
   "metadata": {
    "collapsed": true
   },
   "outputs": [],
   "source": []
  },
  {
   "cell_type": "code",
   "execution_count": null,
   "metadata": {
    "collapsed": true
   },
   "outputs": [],
   "source": []
  },
  {
   "cell_type": "markdown",
   "metadata": {
    "collapsed": true
   },
   "source": [
    "## Checking gradient"
   ]
  },
  {
   "cell_type": "code",
   "execution_count": 460,
   "metadata": {
    "collapsed": false
   },
   "outputs": [
    {
     "name": "stdout",
     "output_type": "stream",
     "text": [
      "68.3081896552 1.78637013924\n",
      "68.0884698276 2.51658435116\n",
      "68.1983297414 2.18500039728\n"
     ]
    }
   ],
   "source": [
    "import sys\n",
    "import lxmls.readers\n",
    "\n",
    "galton_data = galton.load()\n",
    "fathers = galton_data[:,0]\n",
    "sons = galton_data[:,1]\n",
    "\n",
    "print fathers.mean(), fathers.std()\n",
    "print sons.mean(), sons.std()\n",
    "print galton_data.ravel().mean(), galton_data.ravel().std()\n",
    "\n",
    "import numpy as np\n",
    "from scipy import optimize\n",
    "\n",
    "x = np.hstack([fathers[:, None], np.ones([fathers.shape[0], 1])])\n",
    "y = sons[:, None]\n",
    "w = np.array([[0.96], [0.4]]).reshape(2,1)"
   ]
  },
  {
   "cell_type": "code",
   "execution_count": 486,
   "metadata": {
    "collapsed": true
   },
   "outputs": [],
   "source": [
    "def error(x, y, w):\n",
    "    \"\"\"\n",
    "    MSE\n",
    "    \"\"\"\n",
    "    predictions = np.dot(x, w)\n",
    "    return np.mean((predictions-y)**2)\n",
    "\n",
    "\n",
    "def error_grad(x, y, w):\n",
    "    \"\"\"\n",
    "    Gradient for error w.r.t. w\n",
    "    \"\"\"\n",
    "    assert x.ndim == 2, 'x should be a matrix'    \n",
    "    assert y.ndim == 2, 'y should be a matrix'\n",
    "    assert w.ndim == 2, 'w should be a matrix'\n",
    "    num_features = x.shape[1]\n",
    "    grad = np.zeros([num_features, 1])\n",
    "    for j in range(num_features):\n",
    "        grad[j] = np.mean(2*(np.dot(x, w)-y)*x[:, [j]], axis=0)\n",
    "    return grad\n",
    "\n",
    "\n",
    "def num_grad_w(func, w,e = 1e-5):\n",
    "#def num_grad_w(func, w, e = 1e-5, **kwargs):\n",
    "    \"\"\"\n",
    "    Compute the gradient of the func with respect to w.\n",
    "    \n",
    "    The function returns a gradient vector of the same size as w\n",
    "    \"\"\"\n",
    "    dim = w.shape[0]\n",
    "    grads = []\n",
    "    perturbation_vector  = np.zeros(w.shape)\n",
    "    \n",
    "    for i in range(dim):\n",
    "        # Perturbate the current dimension\n",
    "        perturbation_vector[i] = e\n",
    "        \n",
    "        # Compute the slope: (point+epsilon - point-epsilon)/2epsilon\n",
    "        err_a = func(x, y, w + perturbation_vector)\n",
    "        err_b = func(x, y, w - perturbation_vector)\n",
    "        grad = (err_a - err_b) / (2*e)\n",
    "        #perturbation_vector[i] = 0\n",
    "\n",
    "        grads.append(grad)\n",
    "    return np.array(grads).reshape(w.shape)"
   ]
  },
  {
   "cell_type": "code",
   "execution_count": 487,
   "metadata": {
    "collapsed": true
   },
   "outputs": [],
   "source": [
    "np.random.random(123)\n",
    "weights = np.random.random((num_features,1))"
   ]
  },
  {
   "cell_type": "code",
   "execution_count": 488,
   "metadata": {
    "collapsed": false
   },
   "outputs": [
    {
     "data": {
      "text/plain": [
       "array([[  -31.33644117],\n",
       "       [-2139.79476767]])"
      ]
     },
     "execution_count": 488,
     "metadata": {},
     "output_type": "execute_result"
    }
   ],
   "source": [
    "error_grad(ones_X, son_height, weights)"
   ]
  },
  {
   "cell_type": "code",
   "execution_count": 489,
   "metadata": {
    "collapsed": false
   },
   "outputs": [
    {
     "data": {
      "text/plain": [
       "array([[  -31.33644117],\n",
       "       [-2139.79476767]])"
      ]
     },
     "execution_count": 489,
     "metadata": {},
     "output_type": "execute_result"
    }
   ],
   "source": [
    "compute_gradient(ones_X, son_height, weights)"
   ]
  },
  {
   "cell_type": "code",
   "execution_count": 490,
   "metadata": {
    "collapsed": false
   },
   "outputs": [
    {
     "data": {
      "text/plain": [
       "array([[-5983.56292552],\n",
       "       [-6071.13130885]])"
      ]
     },
     "execution_count": 490,
     "metadata": {},
     "output_type": "execute_result"
    }
   ],
   "source": [
    "num_grad_w(error,  weights)"
   ]
  },
  {
   "cell_type": "code",
   "execution_count": null,
   "metadata": {
    "collapsed": true
   },
   "outputs": [],
   "source": []
  },
  {
   "cell_type": "code",
   "execution_count": null,
   "metadata": {
    "collapsed": true
   },
   "outputs": [],
   "source": []
  },
  {
   "cell_type": "code",
   "execution_count": null,
   "metadata": {
    "collapsed": true
   },
   "outputs": [],
   "source": []
  },
  {
   "cell_type": "code",
   "execution_count": null,
   "metadata": {
    "collapsed": true
   },
   "outputs": [],
   "source": []
  },
  {
   "cell_type": "code",
   "execution_count": null,
   "metadata": {
    "collapsed": true
   },
   "outputs": [],
   "source": []
  },
  {
   "cell_type": "code",
   "execution_count": null,
   "metadata": {
    "collapsed": true
   },
   "outputs": [],
   "source": []
  },
  {
   "cell_type": "code",
   "execution_count": null,
   "metadata": {
    "collapsed": true
   },
   "outputs": [],
   "source": []
  },
  {
   "cell_type": "code",
   "execution_count": null,
   "metadata": {
    "collapsed": true
   },
   "outputs": [],
   "source": []
  },
  {
   "cell_type": "code",
   "execution_count": null,
   "metadata": {
    "collapsed": true
   },
   "outputs": [],
   "source": []
  },
  {
   "cell_type": "code",
   "execution_count": null,
   "metadata": {
    "collapsed": true
   },
   "outputs": [],
   "source": []
  },
  {
   "cell_type": "code",
   "execution_count": null,
   "metadata": {
    "collapsed": true
   },
   "outputs": [],
   "source": []
  },
  {
   "cell_type": "code",
   "execution_count": null,
   "metadata": {
    "collapsed": true
   },
   "outputs": [],
   "source": []
  },
  {
   "cell_type": "code",
   "execution_count": null,
   "metadata": {
    "collapsed": true
   },
   "outputs": [],
   "source": []
  },
  {
   "cell_type": "code",
   "execution_count": null,
   "metadata": {
    "collapsed": true
   },
   "outputs": [],
   "source": []
  },
  {
   "cell_type": "code",
   "execution_count": null,
   "metadata": {
    "collapsed": true
   },
   "outputs": [],
   "source": []
  },
  {
   "cell_type": "code",
   "execution_count": null,
   "metadata": {
    "collapsed": true
   },
   "outputs": [],
   "source": []
  },
  {
   "cell_type": "code",
   "execution_count": null,
   "metadata": {
    "collapsed": true
   },
   "outputs": [],
   "source": []
  },
  {
   "cell_type": "code",
   "execution_count": null,
   "metadata": {
    "collapsed": true
   },
   "outputs": [],
   "source": []
  },
  {
   "cell_type": "code",
   "execution_count": null,
   "metadata": {
    "collapsed": true
   },
   "outputs": [],
   "source": []
  },
  {
   "cell_type": "code",
   "execution_count": null,
   "metadata": {
    "collapsed": true
   },
   "outputs": [],
   "source": []
  },
  {
   "cell_type": "code",
   "execution_count": null,
   "metadata": {
    "collapsed": true
   },
   "outputs": [],
   "source": []
  },
  {
   "cell_type": "code",
   "execution_count": null,
   "metadata": {
    "collapsed": true
   },
   "outputs": [],
   "source": []
  },
  {
   "cell_type": "code",
   "execution_count": null,
   "metadata": {
    "collapsed": true
   },
   "outputs": [],
   "source": []
  },
  {
   "cell_type": "code",
   "execution_count": null,
   "metadata": {
    "collapsed": true
   },
   "outputs": [],
   "source": []
  },
  {
   "cell_type": "code",
   "execution_count": null,
   "metadata": {
    "collapsed": true
   },
   "outputs": [],
   "source": []
  },
  {
   "cell_type": "code",
   "execution_count": null,
   "metadata": {
    "collapsed": true
   },
   "outputs": [],
   "source": []
  },
  {
   "cell_type": "code",
   "execution_count": null,
   "metadata": {
    "collapsed": true
   },
   "outputs": [],
   "source": []
  },
  {
   "cell_type": "code",
   "execution_count": null,
   "metadata": {
    "collapsed": true
   },
   "outputs": [],
   "source": []
  },
  {
   "cell_type": "code",
   "execution_count": null,
   "metadata": {
    "collapsed": true
   },
   "outputs": [],
   "source": []
  },
  {
   "cell_type": "code",
   "execution_count": null,
   "metadata": {
    "collapsed": true
   },
   "outputs": [],
   "source": []
  },
  {
   "cell_type": "code",
   "execution_count": null,
   "metadata": {
    "collapsed": true
   },
   "outputs": [],
   "source": []
  },
  {
   "cell_type": "code",
   "execution_count": null,
   "metadata": {
    "collapsed": true
   },
   "outputs": [],
   "source": []
  },
  {
   "cell_type": "code",
   "execution_count": null,
   "metadata": {
    "collapsed": true
   },
   "outputs": [],
   "source": []
  },
  {
   "cell_type": "code",
   "execution_count": null,
   "metadata": {
    "collapsed": true
   },
   "outputs": [],
   "source": [
    "# NO see"
   ]
  },
  {
   "cell_type": "code",
   "execution_count": null,
   "metadata": {
    "collapsed": false
   },
   "outputs": [],
   "source": [
    "def numerical_grad(X, Y, weights, epsilon = 0.00001):\n",
    "    num_features = X.shape[1]\n",
    "    \n",
    "    Y_hat_plus = predict(X,weights + epsilon)\n",
    "    Y_hat_minus = predict(X,weights - epsilon)\n",
    "\n",
    "    numerical_grad = (compute_cost(Y, Y_hat_plus) - compute_cost(Y, Y_hat_minus))/ (2*epsilon)\n",
    "    \n",
    "    #numerical_grad = np.zeros(num_features)\n",
    "    #for j in range(num_features):\n",
    "    #    w_plus = w\n",
    "    #    w_plus[j] += epsilon\n",
    "    #    w_minus = w\n",
    "    #    w_minus[j] -= epsilon\n",
    "    #    cost_plus = compute_cost(X, Y, w_plus)\n",
    "    #    cost_minus = compute_cost(X, Y, w_minus)\n",
    "    #    numerical_grad[j] = (cost_plus - cost_minus) / (2 * epsilon)\n",
    "    return numerical_grad"
   ]
  },
  {
   "cell_type": "code",
   "execution_count": null,
   "metadata": {
    "collapsed": true
   },
   "outputs": [],
   "source": [
    "def grad_checking(grad, numerical_grad, epsilon=0.00001):\n",
    "    diff = np.linalg.norm(grad - numerical_grad)\n",
    "    return diff"
   ]
  },
  {
   "cell_type": "code",
   "execution_count": null,
   "metadata": {
    "collapsed": false
   },
   "outputs": [],
   "source": [
    "np.random.seed(123)\n",
    "w = np.random.random((2,1))\n",
    "\n",
    "grad = compute_grad(ones_X, son_height, w)\n",
    "grad"
   ]
  },
  {
   "cell_type": "code",
   "execution_count": null,
   "metadata": {
    "collapsed": false
   },
   "outputs": [],
   "source": [
    "num_grad = numerical_grad(ones_X, son_height, w)\n",
    "num_grad"
   ]
  },
  {
   "cell_type": "code",
   "execution_count": null,
   "metadata": {
    "collapsed": false
   },
   "outputs": [],
   "source": [
    "grad_checking(ones_X, son_height, np.random.random(2))"
   ]
  },
  {
   "cell_type": "code",
   "execution_count": 159,
   "metadata": {
    "collapsed": false
   },
   "outputs": [],
   "source": [
    "# given w_j\n",
    "cost_evolution = []\n",
    "def gradient_descent(num_iterations, X, Y, learning_rate=0.001):\n",
    "    # add column full of ones to X this allow us to take into \n",
    "    # account an offset (or bias) term for the linear model\n",
    "    X = np.hstack((np.ones((X.shape[0],1)), X))\n",
    "        \n",
    "    num_features = X.shape[1] \n",
    "    num_examples = X.shape[0]\n",
    "    weights = np.random.random(num_features)\n",
    "    \n",
    "    for it in range(num_iterations):\n",
    "        weights = weights - learning_rate * compute_grad(X, Y, weights)\n",
    "        cost = compute_cost(X,Y,weights)\n",
    "        cost_evolution.append(cost)\n",
    "        sys.stdout.write(\"\\rcost iter \" +  str(it) + \" is: \" + str(cost[0]) )\n",
    "        sys.stdout.flush()\n",
    "        \n",
    "    w_hat = weights\n",
    "    return w_hat"
   ]
  },
  {
   "cell_type": "code",
   "execution_count": 160,
   "metadata": {
    "collapsed": false
   },
   "outputs": [
    {
     "name": "stdout",
     "output_type": "stream",
     "text": [
      "> <ipython-input-35-8fd3d02ee747>(21)compute_grad()\n",
      "-> grad[j] = compute_partial_error_wrt_j(X, Y, weights, j )\n"
     ]
    },
    {
     "ename": "KeyboardInterrupt",
     "evalue": "",
     "output_type": "error",
     "traceback": [
      "\u001b[0;31m---------------------------------------------------------------------------\u001b[0m",
      "\u001b[0;31mKeyboardInterrupt\u001b[0m                         Traceback (most recent call last)",
      "\u001b[0;32m<ipython-input-160-e90cfb7e8cff>\u001b[0m in \u001b[0;36m<module>\u001b[0;34m()\u001b[0m\n\u001b[0;32m----> 1\u001b[0;31m \u001b[0mw_hat\u001b[0m \u001b[0;34m=\u001b[0m \u001b[0mgradient_descent\u001b[0m\u001b[0;34m(\u001b[0m\u001b[0;36m10\u001b[0m\u001b[0;34m,\u001b[0m \u001b[0mfather_height\u001b[0m\u001b[0;34m,\u001b[0m \u001b[0mson_height\u001b[0m\u001b[0;34m)\u001b[0m\u001b[0;34m\u001b[0m\u001b[0m\n\u001b[0m",
      "\u001b[0;32m<ipython-input-159-f06aea7afe2f>\u001b[0m in \u001b[0;36mgradient_descent\u001b[0;34m(num_iterations, X, Y, learning_rate)\u001b[0m\n\u001b[1;32m     12\u001b[0m \u001b[0;34m\u001b[0m\u001b[0m\n\u001b[1;32m     13\u001b[0m     \u001b[0;32mfor\u001b[0m \u001b[0mit\u001b[0m \u001b[0;32min\u001b[0m \u001b[0mrange\u001b[0m\u001b[0;34m(\u001b[0m\u001b[0mnum_iterations\u001b[0m\u001b[0;34m)\u001b[0m\u001b[0;34m:\u001b[0m\u001b[0;34m\u001b[0m\u001b[0m\n\u001b[0;32m---> 14\u001b[0;31m         \u001b[0mweights\u001b[0m \u001b[0;34m=\u001b[0m \u001b[0mweights\u001b[0m \u001b[0;34m-\u001b[0m \u001b[0mlearning_rate\u001b[0m \u001b[0;34m*\u001b[0m \u001b[0mcompute_grad\u001b[0m\u001b[0;34m(\u001b[0m\u001b[0mX\u001b[0m\u001b[0;34m,\u001b[0m \u001b[0mY\u001b[0m\u001b[0;34m,\u001b[0m \u001b[0mweights\u001b[0m\u001b[0;34m)\u001b[0m\u001b[0;34m\u001b[0m\u001b[0m\n\u001b[0m\u001b[1;32m     15\u001b[0m         \u001b[0mcost\u001b[0m \u001b[0;34m=\u001b[0m \u001b[0mcompute_cost\u001b[0m\u001b[0;34m(\u001b[0m\u001b[0mX\u001b[0m\u001b[0;34m,\u001b[0m\u001b[0mY\u001b[0m\u001b[0;34m,\u001b[0m\u001b[0mweights\u001b[0m\u001b[0;34m)\u001b[0m\u001b[0;34m\u001b[0m\u001b[0m\n\u001b[1;32m     16\u001b[0m         \u001b[0mcost_evolution\u001b[0m\u001b[0;34m.\u001b[0m\u001b[0mappend\u001b[0m\u001b[0;34m(\u001b[0m\u001b[0mcost\u001b[0m\u001b[0;34m)\u001b[0m\u001b[0;34m\u001b[0m\u001b[0m\n",
      "\u001b[0;32m<ipython-input-35-8fd3d02ee747>\u001b[0m in \u001b[0;36mcompute_grad\u001b[0;34m(X, Y, weights)\u001b[0m\n\u001b[1;32m     19\u001b[0m         \u001b[0;31m#grad[j] = np.mean(2*(predict(X,w) - Y) * X_j, axis=0)[0]\u001b[0m\u001b[0;34m\u001b[0m\u001b[0;34m\u001b[0m\u001b[0m\n\u001b[1;32m     20\u001b[0m         \u001b[0;32mimport\u001b[0m \u001b[0mpdb\u001b[0m\u001b[0;34m;\u001b[0m\u001b[0mpdb\u001b[0m\u001b[0;34m.\u001b[0m\u001b[0mset_trace\u001b[0m\u001b[0;34m(\u001b[0m\u001b[0;34m)\u001b[0m\u001b[0;34m\u001b[0m\u001b[0m\n\u001b[0;32m---> 21\u001b[0;31m         \u001b[0mgrad\u001b[0m\u001b[0;34m[\u001b[0m\u001b[0mj\u001b[0m\u001b[0;34m]\u001b[0m \u001b[0;34m=\u001b[0m \u001b[0mcompute_partial_error_wrt_j\u001b[0m\u001b[0;34m(\u001b[0m\u001b[0mX\u001b[0m\u001b[0;34m,\u001b[0m \u001b[0mY\u001b[0m\u001b[0;34m,\u001b[0m \u001b[0mweights\u001b[0m\u001b[0;34m,\u001b[0m \u001b[0mj\u001b[0m \u001b[0;34m)\u001b[0m\u001b[0;34m\u001b[0m\u001b[0m\n\u001b[0m\u001b[1;32m     22\u001b[0m \u001b[0;34m\u001b[0m\u001b[0m\n\u001b[1;32m     23\u001b[0m     \u001b[0;32mreturn\u001b[0m \u001b[0mgrad\u001b[0m\u001b[0;34m\u001b[0m\u001b[0m\n",
      "\u001b[0;32m<ipython-input-35-8fd3d02ee747>\u001b[0m in \u001b[0;36mcompute_grad\u001b[0;34m(X, Y, weights)\u001b[0m\n\u001b[1;32m     19\u001b[0m         \u001b[0;31m#grad[j] = np.mean(2*(predict(X,w) - Y) * X_j, axis=0)[0]\u001b[0m\u001b[0;34m\u001b[0m\u001b[0;34m\u001b[0m\u001b[0m\n\u001b[1;32m     20\u001b[0m         \u001b[0;32mimport\u001b[0m \u001b[0mpdb\u001b[0m\u001b[0;34m;\u001b[0m\u001b[0mpdb\u001b[0m\u001b[0;34m.\u001b[0m\u001b[0mset_trace\u001b[0m\u001b[0;34m(\u001b[0m\u001b[0;34m)\u001b[0m\u001b[0;34m\u001b[0m\u001b[0m\n\u001b[0;32m---> 21\u001b[0;31m         \u001b[0mgrad\u001b[0m\u001b[0;34m[\u001b[0m\u001b[0mj\u001b[0m\u001b[0;34m]\u001b[0m \u001b[0;34m=\u001b[0m \u001b[0mcompute_partial_error_wrt_j\u001b[0m\u001b[0;34m(\u001b[0m\u001b[0mX\u001b[0m\u001b[0;34m,\u001b[0m \u001b[0mY\u001b[0m\u001b[0;34m,\u001b[0m \u001b[0mweights\u001b[0m\u001b[0;34m,\u001b[0m \u001b[0mj\u001b[0m \u001b[0;34m)\u001b[0m\u001b[0;34m\u001b[0m\u001b[0m\n\u001b[0m\u001b[1;32m     22\u001b[0m \u001b[0;34m\u001b[0m\u001b[0m\n\u001b[1;32m     23\u001b[0m     \u001b[0;32mreturn\u001b[0m \u001b[0mgrad\u001b[0m\u001b[0;34m\u001b[0m\u001b[0m\n",
      "\u001b[0;32m/Users/davidbuchacaprats/anaconda/lib/python2.7/bdb.pyc\u001b[0m in \u001b[0;36mtrace_dispatch\u001b[0;34m(self, frame, event, arg)\u001b[0m\n\u001b[1;32m     47\u001b[0m             \u001b[0;32mreturn\u001b[0m \u001b[0;31m# None\u001b[0m\u001b[0;34m\u001b[0m\u001b[0m\n\u001b[1;32m     48\u001b[0m         \u001b[0;32mif\u001b[0m \u001b[0mevent\u001b[0m \u001b[0;34m==\u001b[0m \u001b[0;34m'line'\u001b[0m\u001b[0;34m:\u001b[0m\u001b[0;34m\u001b[0m\u001b[0m\n\u001b[0;32m---> 49\u001b[0;31m             \u001b[0;32mreturn\u001b[0m \u001b[0mself\u001b[0m\u001b[0;34m.\u001b[0m\u001b[0mdispatch_line\u001b[0m\u001b[0;34m(\u001b[0m\u001b[0mframe\u001b[0m\u001b[0;34m)\u001b[0m\u001b[0;34m\u001b[0m\u001b[0m\n\u001b[0m\u001b[1;32m     50\u001b[0m         \u001b[0;32mif\u001b[0m \u001b[0mevent\u001b[0m \u001b[0;34m==\u001b[0m \u001b[0;34m'call'\u001b[0m\u001b[0;34m:\u001b[0m\u001b[0;34m\u001b[0m\u001b[0m\n\u001b[1;32m     51\u001b[0m             \u001b[0;32mreturn\u001b[0m \u001b[0mself\u001b[0m\u001b[0;34m.\u001b[0m\u001b[0mdispatch_call\u001b[0m\u001b[0;34m(\u001b[0m\u001b[0mframe\u001b[0m\u001b[0;34m,\u001b[0m \u001b[0marg\u001b[0m\u001b[0;34m)\u001b[0m\u001b[0;34m\u001b[0m\u001b[0m\n",
      "\u001b[0;32m/Users/davidbuchacaprats/anaconda/lib/python2.7/bdb.pyc\u001b[0m in \u001b[0;36mdispatch_line\u001b[0;34m(self, frame)\u001b[0m\n\u001b[1;32m     65\u001b[0m     \u001b[0;32mdef\u001b[0m \u001b[0mdispatch_line\u001b[0m\u001b[0;34m(\u001b[0m\u001b[0mself\u001b[0m\u001b[0;34m,\u001b[0m \u001b[0mframe\u001b[0m\u001b[0;34m)\u001b[0m\u001b[0;34m:\u001b[0m\u001b[0;34m\u001b[0m\u001b[0m\n\u001b[1;32m     66\u001b[0m         \u001b[0;32mif\u001b[0m \u001b[0mself\u001b[0m\u001b[0;34m.\u001b[0m\u001b[0mstop_here\u001b[0m\u001b[0;34m(\u001b[0m\u001b[0mframe\u001b[0m\u001b[0;34m)\u001b[0m \u001b[0;32mor\u001b[0m \u001b[0mself\u001b[0m\u001b[0;34m.\u001b[0m\u001b[0mbreak_here\u001b[0m\u001b[0;34m(\u001b[0m\u001b[0mframe\u001b[0m\u001b[0;34m)\u001b[0m\u001b[0;34m:\u001b[0m\u001b[0;34m\u001b[0m\u001b[0m\n\u001b[0;32m---> 67\u001b[0;31m             \u001b[0mself\u001b[0m\u001b[0;34m.\u001b[0m\u001b[0muser_line\u001b[0m\u001b[0;34m(\u001b[0m\u001b[0mframe\u001b[0m\u001b[0;34m)\u001b[0m\u001b[0;34m\u001b[0m\u001b[0m\n\u001b[0m\u001b[1;32m     68\u001b[0m             \u001b[0;32mif\u001b[0m \u001b[0mself\u001b[0m\u001b[0;34m.\u001b[0m\u001b[0mquitting\u001b[0m\u001b[0;34m:\u001b[0m \u001b[0;32mraise\u001b[0m \u001b[0mBdbQuit\u001b[0m\u001b[0;34m\u001b[0m\u001b[0m\n\u001b[1;32m     69\u001b[0m         \u001b[0;32mreturn\u001b[0m \u001b[0mself\u001b[0m\u001b[0;34m.\u001b[0m\u001b[0mtrace_dispatch\u001b[0m\u001b[0;34m\u001b[0m\u001b[0m\n",
      "\u001b[0;32m/Users/davidbuchacaprats/anaconda/lib/python2.7/pdb.pyc\u001b[0m in \u001b[0;36muser_line\u001b[0;34m(self, frame)\u001b[0m\n\u001b[1;32m    156\u001b[0m             \u001b[0mself\u001b[0m\u001b[0;34m.\u001b[0m\u001b[0m_wait_for_mainpyfile\u001b[0m \u001b[0;34m=\u001b[0m \u001b[0;36m0\u001b[0m\u001b[0;34m\u001b[0m\u001b[0m\n\u001b[1;32m    157\u001b[0m         \u001b[0;32mif\u001b[0m \u001b[0mself\u001b[0m\u001b[0;34m.\u001b[0m\u001b[0mbp_commands\u001b[0m\u001b[0;34m(\u001b[0m\u001b[0mframe\u001b[0m\u001b[0;34m)\u001b[0m\u001b[0;34m:\u001b[0m\u001b[0;34m\u001b[0m\u001b[0m\n\u001b[0;32m--> 158\u001b[0;31m             \u001b[0mself\u001b[0m\u001b[0;34m.\u001b[0m\u001b[0minteraction\u001b[0m\u001b[0;34m(\u001b[0m\u001b[0mframe\u001b[0m\u001b[0;34m,\u001b[0m \u001b[0mNone\u001b[0m\u001b[0;34m)\u001b[0m\u001b[0;34m\u001b[0m\u001b[0m\n\u001b[0m\u001b[1;32m    159\u001b[0m \u001b[0;34m\u001b[0m\u001b[0m\n\u001b[1;32m    160\u001b[0m     \u001b[0;32mdef\u001b[0m \u001b[0mbp_commands\u001b[0m\u001b[0;34m(\u001b[0m\u001b[0mself\u001b[0m\u001b[0;34m,\u001b[0m\u001b[0mframe\u001b[0m\u001b[0;34m)\u001b[0m\u001b[0;34m:\u001b[0m\u001b[0;34m\u001b[0m\u001b[0m\n",
      "\u001b[0;32m/Users/davidbuchacaprats/anaconda/lib/python2.7/pdb.pyc\u001b[0m in \u001b[0;36minteraction\u001b[0;34m(self, frame, traceback)\u001b[0m\n\u001b[1;32m    208\u001b[0m         \u001b[0mself\u001b[0m\u001b[0;34m.\u001b[0m\u001b[0msetup\u001b[0m\u001b[0;34m(\u001b[0m\u001b[0mframe\u001b[0m\u001b[0;34m,\u001b[0m \u001b[0mtraceback\u001b[0m\u001b[0;34m)\u001b[0m\u001b[0;34m\u001b[0m\u001b[0m\n\u001b[1;32m    209\u001b[0m         \u001b[0mself\u001b[0m\u001b[0;34m.\u001b[0m\u001b[0mprint_stack_entry\u001b[0m\u001b[0;34m(\u001b[0m\u001b[0mself\u001b[0m\u001b[0;34m.\u001b[0m\u001b[0mstack\u001b[0m\u001b[0;34m[\u001b[0m\u001b[0mself\u001b[0m\u001b[0;34m.\u001b[0m\u001b[0mcurindex\u001b[0m\u001b[0;34m]\u001b[0m\u001b[0;34m)\u001b[0m\u001b[0;34m\u001b[0m\u001b[0m\n\u001b[0;32m--> 210\u001b[0;31m         \u001b[0mself\u001b[0m\u001b[0;34m.\u001b[0m\u001b[0mcmdloop\u001b[0m\u001b[0;34m(\u001b[0m\u001b[0;34m)\u001b[0m\u001b[0;34m\u001b[0m\u001b[0m\n\u001b[0m\u001b[1;32m    211\u001b[0m         \u001b[0mself\u001b[0m\u001b[0;34m.\u001b[0m\u001b[0mforget\u001b[0m\u001b[0;34m(\u001b[0m\u001b[0;34m)\u001b[0m\u001b[0;34m\u001b[0m\u001b[0m\n\u001b[1;32m    212\u001b[0m \u001b[0;34m\u001b[0m\u001b[0m\n",
      "\u001b[0;32m/Users/davidbuchacaprats/anaconda/lib/python2.7/cmd.pyc\u001b[0m in \u001b[0;36mcmdloop\u001b[0;34m(self, intro)\u001b[0m\n\u001b[1;32m    128\u001b[0m                     \u001b[0;32mif\u001b[0m \u001b[0mself\u001b[0m\u001b[0;34m.\u001b[0m\u001b[0muse_rawinput\u001b[0m\u001b[0;34m:\u001b[0m\u001b[0;34m\u001b[0m\u001b[0m\n\u001b[1;32m    129\u001b[0m                         \u001b[0;32mtry\u001b[0m\u001b[0;34m:\u001b[0m\u001b[0;34m\u001b[0m\u001b[0m\n\u001b[0;32m--> 130\u001b[0;31m                             \u001b[0mline\u001b[0m \u001b[0;34m=\u001b[0m \u001b[0mraw_input\u001b[0m\u001b[0;34m(\u001b[0m\u001b[0mself\u001b[0m\u001b[0;34m.\u001b[0m\u001b[0mprompt\u001b[0m\u001b[0;34m)\u001b[0m\u001b[0;34m\u001b[0m\u001b[0m\n\u001b[0m\u001b[1;32m    131\u001b[0m                         \u001b[0;32mexcept\u001b[0m \u001b[0mEOFError\u001b[0m\u001b[0;34m:\u001b[0m\u001b[0;34m\u001b[0m\u001b[0m\n\u001b[1;32m    132\u001b[0m                             \u001b[0mline\u001b[0m \u001b[0;34m=\u001b[0m \u001b[0;34m'EOF'\u001b[0m\u001b[0;34m\u001b[0m\u001b[0m\n",
      "\u001b[0;32m/Users/davidbuchacaprats/anaconda/lib/python2.7/site-packages/ipykernel/kernelbase.pyc\u001b[0m in \u001b[0;36mraw_input\u001b[0;34m(self, prompt)\u001b[0m\n\u001b[1;32m    687\u001b[0m             \u001b[0mself\u001b[0m\u001b[0;34m.\u001b[0m\u001b[0m_parent_ident\u001b[0m\u001b[0;34m,\u001b[0m\u001b[0;34m\u001b[0m\u001b[0m\n\u001b[1;32m    688\u001b[0m             \u001b[0mself\u001b[0m\u001b[0;34m.\u001b[0m\u001b[0m_parent_header\u001b[0m\u001b[0;34m,\u001b[0m\u001b[0;34m\u001b[0m\u001b[0m\n\u001b[0;32m--> 689\u001b[0;31m             \u001b[0mpassword\u001b[0m\u001b[0;34m=\u001b[0m\u001b[0mFalse\u001b[0m\u001b[0;34m,\u001b[0m\u001b[0;34m\u001b[0m\u001b[0m\n\u001b[0m\u001b[1;32m    690\u001b[0m         )\n\u001b[1;32m    691\u001b[0m \u001b[0;34m\u001b[0m\u001b[0m\n",
      "\u001b[0;32m/Users/davidbuchacaprats/anaconda/lib/python2.7/site-packages/ipykernel/kernelbase.pyc\u001b[0m in \u001b[0;36m_input_request\u001b[0;34m(self, prompt, ident, parent, password)\u001b[0m\n\u001b[1;32m    717\u001b[0m             \u001b[0;32mexcept\u001b[0m \u001b[0mKeyboardInterrupt\u001b[0m\u001b[0;34m:\u001b[0m\u001b[0;34m\u001b[0m\u001b[0m\n\u001b[1;32m    718\u001b[0m                 \u001b[0;31m# re-raise KeyboardInterrupt, to truncate traceback\u001b[0m\u001b[0;34m\u001b[0m\u001b[0;34m\u001b[0m\u001b[0m\n\u001b[0;32m--> 719\u001b[0;31m                 \u001b[0;32mraise\u001b[0m \u001b[0mKeyboardInterrupt\u001b[0m\u001b[0;34m\u001b[0m\u001b[0m\n\u001b[0m\u001b[1;32m    720\u001b[0m             \u001b[0;32melse\u001b[0m\u001b[0;34m:\u001b[0m\u001b[0;34m\u001b[0m\u001b[0m\n\u001b[1;32m    721\u001b[0m                 \u001b[0;32mbreak\u001b[0m\u001b[0;34m\u001b[0m\u001b[0m\n",
      "\u001b[0;31mKeyboardInterrupt\u001b[0m: "
     ]
    }
   ],
   "source": [
    "w_hat = gradient_descent(10, father_height, son_height)"
   ]
  },
  {
   "cell_type": "code",
   "execution_count": 127,
   "metadata": {
    "collapsed": false
   },
   "outputs": [
    {
     "data": {
      "text/plain": [
       "<matplotlib.text.Text at 0x1163b5dd0>"
      ]
     },
     "execution_count": 127,
     "metadata": {},
     "output_type": "execute_result"
    },
    {
     "data": {
      "image/png": "[encoded data removed]",
      "text/plain": [
       "<matplotlib.figure.Figure at 0x115145590>"
      ]
     },
     "metadata": {},
     "output_type": "display_data"
    }
   ],
   "source": [
    "plt.plot(cost_evolution)\n",
    "plt.title(\"Evolution of the error per epoch\")\n",
    "plt.ylabel(\"Error (MSE) value\")\n",
    "plt.xlabel(\"Epoch\")"
   ]
  },
  {
   "cell_type": "markdown",
   "metadata": {},
   "source": [
    "#### Use the np.linalg.lstsq function and compare to your solution."
   ]
  },
  {
   "cell_type": "code",
   "execution_count": 158,
   "metadata": {
    "collapsed": false
   },
   "outputs": [
    {
     "data": {
      "text/plain": [
       "array([[ 0.23334687],\n",
       "       [ 0.99309302]])"
      ]
     },
     "execution_count": 158,
     "metadata": {},
     "output_type": "execute_result"
    }
   ],
   "source": [
    "w_hat"
   ]
  },
  {
   "cell_type": "code",
   "execution_count": 157,
   "metadata": {
    "collapsed": false
   },
   "outputs": [
    {
     "data": {
      "text/plain": [
       "array([[ 23.94153018],\n",
       "       [  0.64629058]])"
      ]
     },
     "execution_count": 157,
     "metadata": {},
     "output_type": "execute_result"
    }
   ],
   "source": [
    "w_hat_lstsq = np.linalg.lstsq(ones_X, son_height)[0]\n",
    "w_hat_lstsq"
   ]
  },
  {
   "cell_type": "markdown",
   "metadata": {},
   "source": [
    "#### plot the regression line"
   ]
  },
  {
   "cell_type": "code",
   "execution_count": null,
   "metadata": {
    "collapsed": true
   },
   "outputs": [],
   "source": []
  }
 ],
 "metadata": {
  "kernelspec": {
   "display_name": "Python 2",
   "language": "python",
   "name": "python2"
  },
  "language_info": {
   "codemirror_mode": {
    "name": "ipython",
    "version": 2
   },
   "file_extension": ".py",
   "mimetype": "text/x-python",
   "name": "python",
   "nbconvert_exporter": "python",
   "pygments_lexer": "ipython2",
   "version": "2.7.11"
  }
 },
 "nbformat": 4,
 "nbformat_minor": 0
}
