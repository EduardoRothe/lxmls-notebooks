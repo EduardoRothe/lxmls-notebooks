{
 "metadata": {
  "name": "",
  "signature": "sha256:084bd7a95902aa03f2f9d99fdd22dd6115812ed14a0546780c0f5082b35abe2a"
 },
 "nbformat": 3,
 "nbformat_minor": 0,
 "worksheets": [
  {
   "cells": [
    {
     "cell_type": "code",
     "collapsed": false,
     "input": [
      "cd lxmls-toolkit-student/labs/day_2"
     ],
     "language": "python",
     "metadata": {},
     "outputs": [
      {
       "output_type": "stream",
       "stream": "stdout",
       "text": [
        "/Users/davidbuchacaprats/Dropbox/lxmls2015/lxmls-toolkit-student/labs/day_2\n"
       ]
      }
     ],
     "prompt_number": 1
    },
    {
     "cell_type": "code",
     "collapsed": false,
     "input": [
      "%matplotlib inline"
     ],
     "language": "python",
     "metadata": {},
     "outputs": [],
     "prompt_number": 2
    },
    {
     "cell_type": "code",
     "collapsed": false,
     "input": [
      "%load_ext autoreload\n",
      "%autoreload 2"
     ],
     "language": "python",
     "metadata": {},
     "outputs": [],
     "prompt_number": 3
    },
    {
     "cell_type": "code",
     "collapsed": false,
     "input": [
      "import sys\n",
      "sys.path.append('/Users/davidbuchacaprats/Dropbox/lxmls2015/lxmls-toolkit-student')\n",
      "import lxmls\n",
      "import scipy\n",
      "path_inside_lxmls_toolkit_student = \"/Users/davidbuchacaprats/Dropbox/lxmls2015/lxmls-toolkit-student\"\n"
     ],
     "language": "python",
     "metadata": {},
     "outputs": [],
     "prompt_number": 4
    },
    {
     "cell_type": "code",
     "collapsed": false,
     "input": [
      "\n",
      "####################################################################################################\n",
      "# Ex 2.1 ###########################################################################################\n",
      "####################################################################################################"
     ],
     "language": "python",
     "metadata": {},
     "outputs": [],
     "prompt_number": 5
    },
    {
     "cell_type": "code",
     "collapsed": false,
     "input": [
      "import lxmls.readers.simple_sequence as ssr\n",
      "\n",
      "simple = ssr.SimpleSequence()\n",
      "print simple.train\n",
      "print \"\\n\"\n",
      "print simple.test"
     ],
     "language": "python",
     "metadata": {},
     "outputs": [
      {
       "output_type": "stream",
       "stream": "stdout",
       "text": [
        "[walk/rainy walk/sunny shop/sunny clean/sunny , walk/rainy walk/rainy shop/rainy clean/sunny , walk/sunny shop/sunny shop/sunny clean/sunny ]\n",
        "\n",
        "\n",
        "[walk/rainy walk/sunny shop/sunny clean/sunny , clean/sunny walk/sunny tennis/sunny walk/sunny ]\n"
       ]
      }
     ],
     "prompt_number": 6
    },
    {
     "cell_type": "code",
     "collapsed": false,
     "input": [
      "\n",
      "for sequence in simple.train.seq_list: print sequence\n",
      "\n",
      "for sequence in simple.train.seq_list:\n",
      "    print sequence.x"
     ],
     "language": "python",
     "metadata": {},
     "outputs": [
      {
       "output_type": "stream",
       "stream": "stdout",
       "text": [
        "walk/rainy walk/sunny shop/sunny clean/sunny \n",
        "walk/rainy walk/rainy shop/rainy clean/sunny \n",
        "walk/sunny shop/sunny shop/sunny clean/sunny \n",
        "[0, 0, 1, 2]\n",
        "[0, 0, 1, 2]\n",
        "[0, 1, 1, 2]\n"
       ]
      }
     ],
     "prompt_number": 7
    },
    {
     "cell_type": "code",
     "collapsed": false,
     "input": [
      "####################################################################################################\n",
      "# Ex 2.2 ###########################################################################################\n",
      "####################################################################################################"
     ],
     "language": "python",
     "metadata": {},
     "outputs": [],
     "prompt_number": 8
    },
    {
     "cell_type": "code",
     "collapsed": false,
     "input": [
      "\n",
      "import lxmls.sequences.hmm as hmmc\n",
      "import lxmls.readers.simple_sequence as ssr\n",
      "simple = ssr.SimpleSequence()\n",
      "\n",
      "hmm = hmmc.HMM(simple.x_dict, simple.y_dict)\n",
      "hmm.train_supervised(simple.train)\n",
      "print \"Initial Probabilities:\\n\", hmm.initial_probs ,\"\\n\"\n",
      "print \"Transition Probabilities:\\n\", hmm.transition_probs ,\"\\n\"\n",
      "print \"Final Probabilities:\\n\", hmm.final_probs ,\"\\n\"\n",
      "print \"Emission Probabilities\\n\", hmm.emission_probs"
     ],
     "language": "python",
     "metadata": {},
     "outputs": [
      {
       "output_type": "stream",
       "stream": "stdout",
       "text": [
        "Initial Probabilities:\n",
        "[ 0.66666667  0.33333333] \n",
        "\n",
        "Transition Probabilities:\n",
        "[[ 0.5    0.   ]\n",
        " [ 0.5    0.625]] \n",
        "\n",
        "Final Probabilities:\n",
        "[ 0.     0.375] \n",
        "\n",
        "Emission Probabilities\n",
        "[[ 0.75   0.25 ]\n",
        " [ 0.25   0.375]\n",
        " [ 0.     0.375]\n",
        " [ 0.     0.   ]]\n"
       ]
      }
     ],
     "prompt_number": 9
    },
    {
     "cell_type": "code",
     "collapsed": false,
     "input": [
      "####################################################################################################\n",
      "# Ex 2.3 ###########################################################################################\n",
      "####################################################################################################"
     ],
     "language": "python",
     "metadata": {},
     "outputs": [],
     "prompt_number": 10
    },
    {
     "cell_type": "code",
     "collapsed": false,
     "input": [
      "import lxmls.sequences.hmm as hmmc\n",
      "import lxmls.readers.simple_sequence as ssr\n",
      "simple = ssr.SimpleSequence()\n",
      "\n",
      "hmm = hmmc.HMM(simple.x_dict, simple.y_dict)\n",
      "hmm.train_supervised(simple.train)"
     ],
     "language": "python",
     "metadata": {},
     "outputs": [],
     "prompt_number": 11
    },
    {
     "cell_type": "code",
     "collapsed": false,
     "input": [
      " \n",
      "initial_scores, transition_scores, final_scores, emission_scores = hmm.compute_scores(simple.train.seq_list[0])\n",
      "\n",
      "print \"initial_scores;\\n\", initial_scores, \"\\n\"\n",
      "print \"transition_scores: \\n\",transition_scores, \"\\n\"\n",
      "print \"final_scores:\\n\", final_scores, \"\\n\"\n",
      "print \"emission_scores:\\n\", emission_scores, \"\\n\""
     ],
     "language": "python",
     "metadata": {},
     "outputs": [
      {
       "output_type": "stream",
       "stream": "stdout",
       "text": [
        "initial_scores;\n",
        "[-0.40546511 -1.09861229] \n",
        "\n",
        "transition_scores: \n",
        "[[[-0.69314718        -inf]\n",
        "  [-0.69314718 -0.47000363]]\n",
        "\n",
        " [[-0.69314718        -inf]\n",
        "  [-0.69314718 -0.47000363]]\n",
        "\n",
        " [[-0.69314718        -inf]\n",
        "  [-0.69314718 -0.47000363]]] \n",
        "\n",
        "final_scores:\n",
        "[       -inf -0.98082925] \n",
        "\n",
        "emission_scores:\n",
        "[[-0.28768207 -1.38629436]\n",
        " [-0.28768207 -1.38629436]\n",
        " [-1.38629436 -0.98082925]\n",
        " [       -inf -0.98082925]] \n",
        "\n"
       ]
      },
      {
       "output_type": "stream",
       "stream": "stderr",
       "text": [
        "/Users/davidbuchacaprats/Dropbox/lxmls2015/lxmls-toolkit-student/lxmls/sequences/hmm.py:200: RuntimeWarning: divide by zero encountered in log\n",
        "  transition_scores[pos-1,:,:] = np.log(self.transition_probs)\n",
        "/Users/davidbuchacaprats/Dropbox/lxmls2015/lxmls-toolkit-student/lxmls/sequences/hmm.py:198: RuntimeWarning: divide by zero encountered in log\n",
        "  emission_scores[pos,:] = np.log(self.emission_probs[sequence.x[pos], :])\n",
        "/Users/davidbuchacaprats/Dropbox/lxmls2015/lxmls-toolkit-student/lxmls/sequences/hmm.py:203: RuntimeWarning: divide by zero encountered in log\n",
        "  final_scores = np.log(self.final_probs)\n"
       ]
      }
     ],
     "prompt_number": 12
    },
    {
     "cell_type": "code",
     "collapsed": false,
     "input": [],
     "language": "python",
     "metadata": {},
     "outputs": [],
     "prompt_number": 12
    },
    {
     "cell_type": "code",
     "collapsed": false,
     "input": [
      "####################################################################################################\n",
      "# Ex 2.4 ###########################################################################################\n",
      "####################################################################################################"
     ],
     "language": "python",
     "metadata": {},
     "outputs": [],
     "prompt_number": 13
    },
    {
     "cell_type": "code",
     "collapsed": false,
     "input": [
      "\n",
      "import numpy as np\n",
      "a = np.random.rand(10)\n",
      "print np.log(sum(np.exp(a)))\n",
      "print np.log(sum(np.exp(10*a)))\n",
      "print np.log(sum(np.exp(100*a)))\n",
      "print np.log(sum(np.exp(1000*a)))\n",
      "\n",
      "print \"\\n\"\n",
      "from lxmls.sequences.log_domain import logsum\n",
      "print logsum(a)\n",
      "print logsum(10*a)\n",
      "print logsum(100*a)\n",
      "print logsum(1000*a)"
     ],
     "language": "python",
     "metadata": {},
     "outputs": [
      {
       "output_type": "stream",
       "stream": "stdout",
       "text": [
        "2.7764851109\n",
        "9.09921669186\n",
        "87.2826855818\n",
        "inf\n",
        "\n",
        "\n",
        "2.7764851109\n",
        "9.09921669186\n",
        "87.2826855818\n",
        "872.826854574\n"
       ]
      },
      {
       "output_type": "stream",
       "stream": "stderr",
       "text": [
        "-c:7: RuntimeWarning: overflow encountered in exp\n"
       ]
      }
     ],
     "prompt_number": 14
    },
    {
     "cell_type": "code",
     "collapsed": false,
     "input": [
      "####################################################################################################\n",
      "# Ex 2.5 ###########################################################################################\n",
      "####################################################################################################"
     ],
     "language": "python",
     "metadata": {},
     "outputs": [],
     "prompt_number": 15
    },
    {
     "cell_type": "code",
     "collapsed": false,
     "input": [
      "\n",
      "import lxmls.sequences.hmm as hmmc\n",
      "import lxmls.readers.simple_sequence as ssr\n",
      "simple = ssr.SimpleSequence()\n",
      "\n",
      "hmm = hmmc.HMM(simple.x_dict, simple.y_dict)\n",
      "hmm.train_supervised(simple.train)\n",
      "initial_scores, transition_scores, final_scores, emission_scores = hmm.compute_scores(simple.train.seq_list[0])\n"
     ],
     "language": "python",
     "metadata": {},
     "outputs": [],
     "prompt_number": 16
    },
    {
     "cell_type": "code",
     "collapsed": false,
     "input": [
      "log_likelihood, forward = hmm.decoder.run_forward(initial_scores, transition_scores,final_scores, emission_scores)\n",
      "print \"forward:\\n\", forward, \"\\n\"\n",
      "print '\\n Log-Likelihood =', log_likelihood"
     ],
     "language": "python",
     "metadata": {},
     "outputs": [
      {
       "output_type": "stream",
       "stream": "stdout",
       "text": [
        "forward:\n",
        "[[-0.69314718 -2.48490665]\n",
        " [-1.67397643 -2.58334672]\n",
        " [-3.75341798 -2.94017562]\n",
        " [       -inf -4.08740307]] \n",
        "\n",
        "\n",
        " Log-Likelihood = -5.06823232601\n"
       ]
      }
     ],
     "prompt_number": 17
    },
    {
     "cell_type": "code",
     "collapsed": false,
     "input": [
      " a =hmm.decoder.run_forward(initial_scores, transition_scores,final_scores, emission_scores)"
     ],
     "language": "python",
     "metadata": {},
     "outputs": [],
     "prompt_number": 18
    },
    {
     "cell_type": "code",
     "collapsed": false,
     "input": [
      "log_likelihood, backward = hmm.decoder.run_backward(initial_scores, transition_scores, final_scores, emission_scores)\n",
      "print \"backward :\\n\", backward, \"\\n\"\n",
      "print 'Log-Likelihood =', log_likelihood"
     ],
     "language": "python",
     "metadata": {},
     "outputs": [
      {
       "output_type": "stream",
       "stream": "stdout",
       "text": [
        "backward :\n",
        "[[-4.41863845 -5.73879301]\n",
        " [-3.67819455 -3.88249502]\n",
        " [-2.65480569 -2.43166214]\n",
        " [       -inf -0.98082925]] \n",
        "\n",
        "Log-Likelihood = -5.06823232601\n"
       ]
      }
     ],
     "prompt_number": 19
    },
    {
     "cell_type": "heading",
     "level": 1,
     "metadata": {},
     "source": [
      "Exercise 2.6 "
     ]
    },
    {
     "cell_type": "code",
     "collapsed": false,
     "input": [
      "#  Compute the node posteriors for the first training sequence \n",
      "#  (use the provided compute posteriors func- tion), and look at the output. \n",
      "#  Note that the state posteriors are a proper probability distribution \n",
      "#  (the lines of the result sum to 1)."
     ],
     "language": "python",
     "metadata": {},
     "outputs": [],
     "prompt_number": 20
    },
    {
     "cell_type": "code",
     "collapsed": false,
     "input": [
      "import lxmls.sequences.hmm as hmmc\n",
      "import lxmls.readers.simple_sequence as ssr\n",
      "simple = ssr.SimpleSequence()\n",
      "\n",
      "hmm = hmmc.HMM(simple.x_dict, simple.y_dict)\n",
      "hmm.train_supervised(simple.train)\n",
      "initial_scores, transition_scores, final_scores, emission_scores = hmm.compute_scores(simple.train.seq_list[0])\n",
      "state_posteriors, transition_posteriors, log_likelihood = hmm.compute_posteriors(initial_scores, transition_scores, final_scores, emission_scores)\n"
     ],
     "language": "python",
     "metadata": {},
     "outputs": [],
     "prompt_number": 21
    },
    {
     "cell_type": "code",
     "collapsed": false,
     "input": [
      "print state_posteriors"
     ],
     "language": "python",
     "metadata": {},
     "outputs": [
      {
       "output_type": "stream",
       "stream": "stdout",
       "text": [
        "[[ 0.95738152  0.04261848]\n",
        " [ 0.75281282  0.24718718]\n",
        " [ 0.26184794  0.73815206]\n",
        " [ 0.          1.        ]]\n"
       ]
      }
     ],
     "prompt_number": 22
    },
    {
     "cell_type": "heading",
     "level": 1,
     "metadata": {},
     "source": [
      "\n",
      "Exercise 2.7 "
     ]
    },
    {
     "cell_type": "heading",
     "level": 3,
     "metadata": {},
     "source": [
      "Run the posterior decode on the first test sequence, and evaluate it."
     ]
    },
    {
     "cell_type": "code",
     "collapsed": false,
     "input": [
      "simple = ssr.SimpleSequence()\n",
      "\n",
      "hmm = hmmc.HMM(simple.x_dict, simple.y_dict)\n",
      "hmm.train_supervised(simple.train)\n",
      "initial_scores, transition_scores, final_scores, emission_scores = hmm.compute_scores(simple.train.seq_list[0])\n",
      "\n",
      "y_pred = hmm.posterior_decode(simple.test.seq_list[0  ])\n",
      "print \"Prediction test 0:\\n\\t\", y_pred, \"\\n\"\n",
      "print \"Truth test 0:\\n\\t\", simple.test.seq_list[0]\n"
     ],
     "language": "python",
     "metadata": {},
     "outputs": [
      {
       "output_type": "stream",
       "stream": "stdout",
       "text": [
        "Prediction test 0:\n",
        "\twalk/rainy walk/rainy shop/sunny clean/sunny  \n",
        "\n",
        "Truth test 0:\n",
        "\twalk/rainy walk/sunny shop/sunny clean/sunny \n"
       ]
      }
     ],
     "prompt_number": 23
    },
    {
     "cell_type": "markdown",
     "metadata": {},
     "source": [
      "Do the same for the second test sentence"
     ]
    },
    {
     "cell_type": "code",
     "collapsed": false,
     "input": [
      "y_pred = hmm.posterior_decode(simple.test.seq_list[1])\n",
      "# There are nan values in the backward and forward probabilites caused by\n",
      "# not having observed tennis\n",
      "\n",
      "print \"Prediction test 1:\"\n",
      "print y_pred\n",
      "print \"Truth test 1:\"\n",
      "print simple.test.seq_list[1]\n"
     ],
     "language": "python",
     "metadata": {},
     "outputs": [
      {
       "output_type": "stream",
       "stream": "stdout",
       "text": [
        "Prediction test 1:\n",
        "clean/rainy walk/rainy tennis/rainy walk/rainy \n",
        "Truth test 1:\n",
        "clean/sunny walk/sunny tennis/sunny walk/sunny \n"
       ]
      },
      {
       "output_type": "stream",
       "stream": "stderr",
       "text": [
        "/Users/davidbuchacaprats/Dropbox/lxmls2015/lxmls-toolkit-student/lxmls/sequences/log_domain.py:79: RuntimeWarning: invalid value encountered in subtract\n",
        "  return c + np.log(np.sum(np.exp(logv - c)))\n"
       ]
      }
     ],
     "prompt_number": 24
    },
    {
     "cell_type": "markdown",
     "metadata": {},
     "source": [
      "What is wrong?\n",
      "\n",
      "Note the observations for the second test sequence: the observation tennis was never seen at training time, so the probability for it will be zero (no matter what state). This will make all possible state sequences have zero probability. As seen in the previous lecture, this is a problem with generative models, which can be corrected using smoothing (among other options).\n"
     ]
    },
    {
     "cell_type": "markdown",
     "metadata": {},
     "source": [
      "Change the train supervised method to add smoothing:\n",
      "```\n",
      "   def train_supervised(self,sequence_list, smoothing):\n",
      "```"
     ]
    },
    {
     "cell_type": "code",
     "collapsed": false,
     "input": [
      "hmm.train_supervised(simple.train, smoothing=0.1)\n",
      "y_pred = hmm.posterior_decode(simple.test.seq_list[0])\n",
      "print \"\\n\"\n",
      "print \"Prediction test 0 with smoothing:\"\n",
      "print \"\\t\",y_pred \n",
      "print \"Truth test 0:\"\n",
      "print \"\\t\",simple.test.seq_list[0]\n",
      "y_pred = hmm.posterior_decode(simple.test.seq_list[1])\n",
      "print \"\\n\"\n",
      "print \"Prediction test 1 with smoothing:\"\n",
      "print \"\\t\",y_pred\n",
      "print \"Truth test 1:\"\n",
      "print \"\\t\",simple.test.seq_list[1]\n"
     ],
     "language": "python",
     "metadata": {},
     "outputs": [
      {
       "output_type": "stream",
       "stream": "stdout",
       "text": [
        "\n",
        "\n",
        "Prediction test 0 with smoothing:\n",
        "\twalk/rainy walk/rainy shop/sunny clean/sunny \n",
        "Truth test 0:\n",
        "\twalk/rainy walk/sunny shop/sunny clean/sunny \n",
        "\n",
        "\n",
        "Prediction test 1 with smoothing:\n",
        "\tclean/sunny walk/sunny tennis/sunny walk/sunny \n",
        "Truth test 1:\n",
        "\tclean/sunny walk/sunny tennis/sunny walk/sunny \n"
       ]
      }
     ],
     "prompt_number": 45
    },
    {
     "cell_type": "heading",
     "level": 1,
     "metadata": {},
     "source": [
      "Exercise 2.8"
     ]
    },
    {
     "cell_type": "markdown",
     "metadata": {},
     "source": [
      "Implement a method for performing Viterbi decoding\n",
      "in file sequence ```classification_decoder.py.```\n"
     ]
    },
    {
     "cell_type": "code",
     "collapsed": false,
     "input": [
      "import lxmls.sequences.hmm as hmmc\n",
      "import lxmls.readers.simple_sequence as ssr\n",
      "simple = ssr.SimpleSequence()\n",
      "hmm = hmmc.HMM(simple.x_dict, simple.y_dict)\n",
      "hmm.train_supervised(simple.train, smoothing=0.1)"
     ],
     "language": "python",
     "metadata": {},
     "outputs": [],
     "prompt_number": 29
    },
    {
     "cell_type": "markdown",
     "metadata": {},
     "source": [
      "Now use ```hmm.viterbi_decode``` to predict the sequence of tags for a given sequence of visible states. \n",
      "\n",
      "Notice that ```hmm.viterbi_decode``` ( which can be located in ```sequences/sequence_classifier```) uses the method ```SequenceClassificationDecoder.run_viterbi``` (from the folder ```sequences/sequence_classification_decoder```)."
     ]
    },
    {
     "cell_type": "code",
     "collapsed": false,
     "input": [
      "y_pred, score = hmm.viterbi_decode(simple.test.seq_list[0])\n",
      "print \"Viterbi decoding Prediction test 0 with smoothing:\\n\\t\", y_pred, \"\\nscore:\\n\\t\",score\n",
      "\n",
      "print \"\\nA correct implementation of Viterbi decoding Prediction test 0 with smoothing\"\n",
      "print \"should return:\"\n",
      "print \"\\t\", \"walk/rainy walk/rainy shop/sunny clean/sunny \"\n",
      "print \"score:\"\n",
      "print \"\\t\",-6.02050124698"
     ],
     "language": "python",
     "metadata": {},
     "outputs": [
      {
       "output_type": "stream",
       "stream": "stdout",
       "text": [
        "Viterbi decoding Prediction test 0 with smoothing:\n",
        "\twalk/rainy walk/rainy shop/sunny clean/sunny  \n",
        "score:\n",
        "\t-6.02050124698\n",
        "\n",
        "A correct implementation of Viterbi decoding Prediction test 0 with smoothing\n",
        "should return:\n",
        "\twalk/rainy walk/rainy shop/sunny clean/sunny \n",
        "score:\n",
        "\t-6.02050124698\n"
       ]
      }
     ],
     "prompt_number": 51
    },
    {
     "cell_type": "code",
     "collapsed": false,
     "input": [
      "print \"Truth test 0:\\n\\t\", simple.test.seq_list[0]"
     ],
     "language": "python",
     "metadata": {},
     "outputs": [
      {
       "output_type": "stream",
       "stream": "stdout",
       "text": [
        "Truth test 0:\n",
        "\twalk/rainy walk/sunny shop/sunny clean/sunny \n"
       ]
      }
     ],
     "prompt_number": 40
    },
    {
     "cell_type": "code",
     "collapsed": false,
     "input": [
      "y_pred, score = hmm.viterbi_decode(simple.test.seq_list[1])\n",
      "print \"Viterbi decoding Prediction test 1 with smoothing:\\n\\t\", y_pred\n",
      "print \"score:\"\n",
      "print \"\\t\",score\n",
      "\n",
      "print \"\\nA correct implementation of Viterbi decoding Prediction test 0 with smoothing\"\n",
      "print \"should return\"\n",
      "print \"\\t\",simple.test.seq_list[1] \n",
      "print \"score:\"\n",
      "print \"\\t\",-11.713974074"
     ],
     "language": "python",
     "metadata": {},
     "outputs": [
      {
       "output_type": "stream",
       "stream": "stdout",
       "text": [
        "Viterbi decoding Prediction test 1 with smoothing:\n",
        "\tclean/sunny walk/sunny tennis/sunny walk/sunny \n",
        "score:\n",
        "\t-11.713974074\n",
        "\n",
        "A correct implementation of Viterbi decoding Prediction test 0 with smoothing\n",
        "should return\n",
        "\tclean/sunny walk/sunny tennis/sunny walk/sunny \n",
        "score:\n",
        "\t-11.713974074\n"
       ]
      }
     ],
     "prompt_number": 62
    },
    {
     "cell_type": "heading",
     "level": 1,
     "metadata": {},
     "source": [
      "Part of Speech Tagging (POS)"
     ]
    },
    {
     "cell_type": "code",
     "collapsed": false,
     "input": [
      "import lxmls.readers.pos_corpus as pcc\n",
      "corpus = pcc.PostagCorpus()\n",
      "path_to_data = path_inside_lxmls_toolkit_student + \"/data/\"\n",
      "train_seq = corpus.read_sequence_list_conll(path_to_data + \"train-02-21.conll\",max_sent_len=15,max_nr_sent=1000)\n",
      "test_seq = corpus.read_sequence_list_conll(path_to_data + \"test-23.conll\",max_sent_len=15,max_nr_sent=1000)\n",
      "dev_seq = corpus.read_sequence_list_conll(path_to_data + \"dev-22.conll\",max_sent_len=15,max_nr_sent=1000)"
     ],
     "language": "python",
     "metadata": {},
     "outputs": [],
     "prompt_number": 90
    },
    {
     "cell_type": "code",
     "collapsed": false,
     "input": [
      "hmm = hmmc.HMM(corpus.word_dict, corpus.tag_dict)\n",
      "hmm.train_supervised(train_seq)\n",
      "hmm.print_transition_matrix()"
     ],
     "language": "python",
     "metadata": {},
     "outputs": [
      {
       "metadata": {},
       "output_type": "display_data",
       "png": "[encoded data removed]",
       "text": [
        "<matplotlib.figure.Figure at 0x1104da390>"
       ]
      }
     ],
     "prompt_number": 91
    },
    {
     "cell_type": "markdown",
     "metadata": {},
     "source": [
      "Look at the transition probabilities of the trained model,\n",
      "and see if they match your intuition about the English language \n",
      "(e.g. adjectives tend to come before nouns). Each column is the previous state and row is the current state. Note the high probability of having Noun after Determinant or Adjective, or of having Verb after Nouns or Pronouns, as expected."
     ]
    },
    {
     "cell_type": "heading",
     "level": 2,
     "metadata": {},
     "source": [
      "Exercise 2.9"
     ]
    },
    {
     "cell_type": "markdown",
     "metadata": {},
     "source": [
      "Test the model using both posterior decoding and Viterbi decoding on\n",
      "both the train and test set, using the methods in class HMM"
     ]
    },
    {
     "cell_type": "code",
     "collapsed": false,
     "input": [
      "viterbi_pred_train = hmm.viterbi_decode_corpus(train_seq) \n",
      "posterior_pred_train = hmm.posterior_decode_corpus(train_seq)\n",
      "eval_viterbi_train = hmm.evaluate_corpus(train_seq, viterbi_pred_train)\n",
      "eval_posterior_train = hmm.evaluate_corpus(train_seq, posterior_pred_train)\n",
      "print \"Train Set Accuracy: Posterior Decode %.3f, Viterbi Decode: %.3f\"%(eval_posterior_train,eval_viterbi_train)"
     ],
     "language": "python",
     "metadata": {},
     "outputs": [
      {
       "output_type": "stream",
       "stream": "stdout",
       "text": [
        "Train Set Accuracy: Posterior Decode 0.292, Viterbi Decode: 0.985\n"
       ]
      }
     ],
     "prompt_number": 92
    },
    {
     "cell_type": "code",
     "collapsed": false,
     "input": [
      "viterbi_pred_test = hmm.viterbi_decode_corpus(test_seq) \n",
      "posterior_pred_test = hmm.posterior_decode_corpus(test_seq) \n",
      "eval_viterbi_test = hmm.evaluate_corpus(test_seq,viterbi_pred_test)\n",
      "eval_posterior_test = hmm.evaluate_corpus(test_seq,posterior_pred_test) \n",
      "print \"Test Set Accuracy: Posterior Decode %.3f, Viterbi Decode: %.3f\"%(\n",
      "    eval_posterior_test,eval_viterbi_test)"
     ],
     "language": "python",
     "metadata": {},
     "outputs": [
      {
       "output_type": "stream",
       "stream": "stdout",
       "text": [
        "Test Set Accuracy: Posterior Decode 0.283, Viterbi Decode: 0.509\n"
       ]
      }
     ],
     "prompt_number": 93
    },
    {
     "cell_type": "markdown",
     "metadata": {},
     "source": [
      "\n",
      "- What do you observe? \n",
      "\n",
      "Remake the previous exercise but now train the HMM using smoothing.\n",
      "Try different values (0,0.1,0.01,1) and report the results on the train and \n",
      "development set. (Use function pick best smoothing)."
     ]
    },
    {
     "cell_type": "code",
     "collapsed": false,
     "input": [
      "best_smoothing = hmm.pick_best_smoothing(train_seq, dev_seq, [10,1,0.1,0])"
     ],
     "language": "python",
     "metadata": {},
     "outputs": [
      {
       "output_type": "stream",
       "stream": "stdout",
       "text": [
        "Smoothing 10.000000 --  Train Set Accuracy: Posterior Decode 0.731, Viterbi Decode: 0.691\n",
        "Smoothing 10.000000 -- Test Set Accuracy: Posterior Decode 0.712, Viterbi Decode: 0.675"
       ]
      },
      {
       "output_type": "stream",
       "stream": "stdout",
       "text": [
        "\n",
        "Smoothing 1.000000 --  Train Set Accuracy: Posterior Decode 0.887, Viterbi Decode: 0.865"
       ]
      },
      {
       "output_type": "stream",
       "stream": "stdout",
       "text": [
        "\n",
        "Smoothing 1.000000 -- Test Set Accuracy: Posterior Decode 0.818, Viterbi Decode: 0.792"
       ]
      },
      {
       "output_type": "stream",
       "stream": "stdout",
       "text": [
        "\n",
        "Smoothing 0.100000 --  Train Set Accuracy: Posterior Decode 0.968, Viterbi Decode: 0.965"
       ]
      },
      {
       "output_type": "stream",
       "stream": "stdout",
       "text": [
        "\n",
        "Smoothing 0.100000 -- Test Set Accuracy: Posterior Decode 0.851, Viterbi Decode: 0.842"
       ]
      },
      {
       "output_type": "stream",
       "stream": "stdout",
       "text": [
        "\n",
        "Smoothing 0.000000 --  Train Set Accuracy: Posterior Decode 0.292, Viterbi Decode: 0.985"
       ]
      },
      {
       "output_type": "stream",
       "stream": "stdout",
       "text": [
        "\n",
        "Smoothing 0.000000 -- Test Set Accuracy: Posterior Decode 0.296, Viterbi Decode: 0.526"
       ]
      },
      {
       "output_type": "stream",
       "stream": "stdout",
       "text": [
        "\n"
       ]
      }
     ],
     "prompt_number": 95
    },
    {
     "cell_type": "code",
     "collapsed": false,
     "input": [
      "hmm.train_supervised(train_seq, smoothing=best_smoothing)\n",
      "viterbi_pred_test = hmm.viterbi_decode_corpus(test_seq)\n",
      "posterior_pred_test = hmm.posterior_decode_corpus(test_seq)\n",
      "eval_viterbi_test = hmm.evaluate_corpus(test_seq, viterbi_pred_test) \n",
      "eval_posterior_test = hmm.evaluate_corpus(test_seq, posterior_pred_test)\n",
      "print \"Best Smoothing %f -- Test Set Accuracy: Posterior Decode %.3f, Viterbi Decode: %.3f\"%(best_smoothing,eval_posterior_test,eval_viterbi_test)"
     ],
     "language": "python",
     "metadata": {},
     "outputs": [
      {
       "output_type": "stream",
       "stream": "stdout",
       "text": [
        "Best Smoothing 0.100000 -- Test Set Accuracy: Posterior Decode 0.837, Viterbi Decode: 0.827\n"
       ]
      }
     ],
     "prompt_number": 98
    },
    {
     "cell_type": "markdown",
     "metadata": {},
     "source": [
      " Perform some error analysis to understand were the errors are coming from. \n",
      "\n",
      " You can start by visualizing the confusion matrix (true tags vs predicted tags). \n",
      "\n",
      "You should get something like what is shown in Figure 2.5."
     ]
    },
    {
     "cell_type": "code",
     "collapsed": false,
     "input": [
      "import lxmls.sequences.confusion_matrix as cm\n",
      "import matplotlib.pyplot as plt\n",
      "confusion_matrix = cm.build_confusion_matrix(test_seq.seq_list, viterbi_pred_test, len(corpus.tag_dict), hmm.get_num_states()) \n",
      "cm.plot_confusion_bar_graph(confusion_matrix, corpus.tag_dict, xrange(hmm.get_num_states()), 'Confusion matrix')\n",
      "plt.show()"
     ],
     "language": "python",
     "metadata": {},
     "outputs": [
      {
       "metadata": {},
       "output_type": "display_data",
       "png": "[encoded data removed]",
       "text": [
        "<matplotlib.figure.Figure at 0x11068c3d0>"
       ]
      }
     ],
     "prompt_number": 101
    },
    {
     "cell_type": "heading",
     "level": 1,
     "metadata": {},
     "source": [
      " Unsupervised Learning of HMMs"
     ]
    },
    {
     "cell_type": "markdown",
     "metadata": {},
     "source": [
      "> If you have made it so far you are awesome! \n",
      "\n",
      "> Don't worry the next couple of exercices do not require to actually code anything."
     ]
    },
    {
     "cell_type": "markdown",
     "metadata": {},
     "source": [
      "We next address the problem of unsupervised learning. In this setting, \n",
      "we are not given any labeled data.\n",
      "\n",
      "All we get to see is a set of natural language sentences. "
     ]
    },
    {
     "cell_type": "heading",
     "level": 2,
     "metadata": {},
     "source": [
      "Exercise 2.10"
     ]
    },
    {
     "cell_type": "markdown",
     "metadata": {},
     "source": [
      "Implement the method to update the counts given the state and transition posteriors\n",
      "\n",
      "```\n",
      "def update_counts(self, sequence, state_posteriors, transition_posteriors):\n",
      "```\n",
      "\n",
      "Look at the code for EM algorithm in file ```sequences/hmm.py``` and check it for yourself."
     ]
    },
    {
     "cell_type": "code",
     "collapsed": false,
     "input": [
      "    def train_EM(self, dataset, smoothing=0, num_epochs=10, evaluate=True):\n",
      "        self.initialize_random()\n",
      "\n",
      "        if evaluate:\n",
      "            acc = self.evaluate_EM(dataset)\n",
      "            print \"Initial accuracy: %f\"%(acc)\n",
      "\n",
      "        for t in xrange(1, num_epochs):\n",
      "            #E-Step\n",
      "            total_log_likelihood = 0.0\n",
      "            self.clear_counts(smoothing)\n",
      "            for sequence in dataset.seq_list:\n",
      "                # Compute scores given the observation sequence.\n",
      "                initial_scores, transition_scores, final_scores, emission_scores = \\\n",
      "                    self.compute_scores(sequence)\n",
      "\n",
      "                state_posteriors, transition_posteriors, log_likelihood = \\\n",
      "                    self.compute_posteriors(initial_scores,\n",
      "                                            transition_scores,\n",
      "                                            final_scores,\n",
      "                                            emission_scores)\n",
      "                self.update_counts(sequence, state_posteriors, transition_posteriors)\n",
      "                total_log_likelihood += log_likelihood\n",
      "\n",
      "            print \"Iter: %i Log Likelihood: %f\"%(t, total_log_likelihood)\n",
      "            #M-Step\n",
      "            self.compute_parameters()\n",
      "            if evaluate:\n",
      "                 ### Evaluate accuracy at this iteration\n",
      "                acc = self.evaluate_EM(dataset)\n",
      "                print \"Iter: %i Accuracy: %f\"%(t,acc)\n"
     ],
     "language": "python",
     "metadata": {},
     "outputs": [],
     "prompt_number": 104
    },
    {
     "cell_type": "heading",
     "level": 2,
     "metadata": {},
     "source": [
      "Exercise 2.11\n"
     ]
    },
    {
     "cell_type": "markdown",
     "metadata": {},
     "source": [
      "Run 20 epochs of the EM algorithm for part of speech induction:\n"
     ]
    },
    {
     "cell_type": "code",
     "collapsed": false,
     "input": [
      "hmm.train_EM(train_seq, 0.1, 20, evaluate=True)\n",
      "viterbi_pred_test = hmm.viterbi_decode_corpus(test_seq)\n",
      "posterior_pred_test = hmm.posterior_decode_corpus(test_seq) \n",
      "eval_viterbi_test = hmm.evaluate_corpus(test_seq, viterbi_pred_test)\n",
      "eval_posterior_test = hmm.evaluate_corpus(test_seq, posterior_pred_test)"
     ],
     "language": "python",
     "metadata": {},
     "outputs": [
      {
       "output_type": "stream",
       "stream": "stdout",
       "text": [
        "Initial accuracy: 0.329191\n",
        "Iter: 1 Log Likelihood: -101889.832960"
       ]
      },
      {
       "output_type": "stream",
       "stream": "stdout",
       "text": [
        "\n",
        "Iter: 1 Accuracy: 0.357150"
       ]
      },
      {
       "output_type": "stream",
       "stream": "stdout",
       "text": [
        "\n",
        "Iter: 2 Log Likelihood: -78082.232249"
       ]
      },
      {
       "output_type": "stream",
       "stream": "stdout",
       "text": [
        "\n",
        "Iter: 2 Accuracy: 0.386211"
       ]
      },
      {
       "output_type": "stream",
       "stream": "stdout",
       "text": [
        "\n",
        "Iter: 3 Log Likelihood: -77911.084051"
       ]
      },
      {
       "output_type": "stream",
       "stream": "stdout",
       "text": [
        "\n",
        "Iter: 3 Accuracy: 0.385209"
       ]
      },
      {
       "output_type": "stream",
       "stream": "stdout",
       "text": [
        "\n",
        "Iter: 4 Log Likelihood: -77505.294694"
       ]
      },
      {
       "output_type": "stream",
       "stream": "stdout",
       "text": [
        "\n",
        "Iter: 4 Accuracy: 0.390721"
       ]
      },
      {
       "output_type": "stream",
       "stream": "stdout",
       "text": [
        "\n",
        "Iter: 5 Log Likelihood: -76794.989125"
       ]
      },
      {
       "output_type": "stream",
       "stream": "stdout",
       "text": [
        "\n",
        "Iter: 5 Accuracy: 0.392324"
       ]
      },
      {
       "output_type": "stream",
       "stream": "stdout",
       "text": [
        "\n",
        "Iter: 6 Log Likelihood: -75741.573754"
       ]
      },
      {
       "output_type": "stream",
       "stream": "stdout",
       "text": [
        "\n",
        "Iter: 6 Accuracy: 0.391923"
       ]
      },
      {
       "output_type": "stream",
       "stream": "stdout",
       "text": [
        "\n",
        "Iter: 7 Log Likelihood: -74358.448480"
       ]
      },
      {
       "output_type": "stream",
       "stream": "stdout",
       "text": [
        "\n",
        "Iter: 7 Accuracy: 0.389318"
       ]
      },
      {
       "output_type": "stream",
       "stream": "stdout",
       "text": [
        "\n",
        "Iter: 8 Log Likelihood: -72634.844428"
       ]
      },
      {
       "output_type": "stream",
       "stream": "stdout",
       "text": [
        "\n",
        "Iter: 8 Accuracy: 0.389117"
       ]
      },
      {
       "output_type": "stream",
       "stream": "stdout",
       "text": [
        "\n",
        "Iter: 9 Log Likelihood: -70727.562059"
       ]
      },
      {
       "output_type": "stream",
       "stream": "stdout",
       "text": [
        "\n",
        "Iter: 9 Accuracy: 0.386111"
       ]
      },
      {
       "output_type": "stream",
       "stream": "stdout",
       "text": [
        "\n",
        "Iter: 10 Log Likelihood: -69059.827265"
       ]
      },
      {
       "output_type": "stream",
       "stream": "stdout",
       "text": [
        "\n",
        "Iter: 10 Accuracy: 0.385810"
       ]
      },
      {
       "output_type": "stream",
       "stream": "stdout",
       "text": [
        "\n",
        "Iter: 11 Log Likelihood: -67744.322496"
       ]
      },
      {
       "output_type": "stream",
       "stream": "stdout",
       "text": [
        "\n",
        "Iter: 11 Accuracy: 0.385610"
       ]
      },
      {
       "output_type": "stream",
       "stream": "stdout",
       "text": [
        "\n",
        "Iter: 12 Log Likelihood: -66699.140415"
       ]
      },
      {
       "output_type": "stream",
       "stream": "stdout",
       "text": [
        "\n",
        "Iter: 12 Accuracy: 0.385409"
       ]
      },
      {
       "output_type": "stream",
       "stream": "stdout",
       "text": [
        "\n",
        "Iter: 13 Log Likelihood: -65985.407048"
       ]
      },
      {
       "output_type": "stream",
       "stream": "stdout",
       "text": [
        "\n",
        "Iter: 13 Accuracy: 0.385209"
       ]
      },
      {
       "output_type": "stream",
       "stream": "stdout",
       "text": [
        "\n",
        "Iter: 14 Log Likelihood: -65699.884271"
       ]
      },
      {
       "output_type": "stream",
       "stream": "stdout",
       "text": [
        "\n",
        "Iter: 14 Accuracy: 0.385209"
       ]
      },
      {
       "output_type": "stream",
       "stream": "stdout",
       "text": [
        "\n",
        "Iter: 15 Log Likelihood: -65624.890040"
       ]
      },
      {
       "output_type": "stream",
       "stream": "stdout",
       "text": [
        "\n",
        "Iter: 15 Accuracy: 0.385309"
       ]
      },
      {
       "output_type": "stream",
       "stream": "stdout",
       "text": [
        "\n",
        "Iter: 16 Log Likelihood: -65603.471420"
       ]
      },
      {
       "output_type": "stream",
       "stream": "stdout",
       "text": [
        "\n",
        "Iter: 16 Accuracy: 0.385309"
       ]
      },
      {
       "output_type": "stream",
       "stream": "stdout",
       "text": [
        "\n",
        "Iter: 17 Log Likelihood: -65592.249525"
       ]
      },
      {
       "output_type": "stream",
       "stream": "stdout",
       "text": [
        "\n",
        "Iter: 17 Accuracy: 0.385309"
       ]
      },
      {
       "output_type": "stream",
       "stream": "stdout",
       "text": [
        "\n",
        "Iter: 18 Log Likelihood: -65579.110365"
       ]
      },
      {
       "output_type": "stream",
       "stream": "stdout",
       "text": [
        "\n",
        "Iter: 18 Accuracy: 0.385309"
       ]
      },
      {
       "output_type": "stream",
       "stream": "stdout",
       "text": [
        "\n",
        "Iter: 19 Log Likelihood: -65567.178812"
       ]
      },
      {
       "output_type": "stream",
       "stream": "stdout",
       "text": [
        "\n",
        "Iter: 19 Accuracy: 0.385309"
       ]
      },
      {
       "output_type": "stream",
       "stream": "stdout",
       "text": [
        "\n"
       ]
      }
     ],
     "prompt_number": 105
    },
    {
     "cell_type": "code",
     "collapsed": false,
     "input": [
      "confusion_matrix = cm.build_confusion_matrix(test_seq.seq_list, viterbi_pred_test, len(corpus.tag_dict), hmm.get_num_states())\n",
      "\n",
      "cm.plot_confusion_bar_graph(confusion_matrix, corpus.tag_dict, xrange(hmm.get_num_states()), 'Confusion matrix')"
     ],
     "language": "python",
     "metadata": {},
     "outputs": [
      {
       "metadata": {},
       "output_type": "display_data",
       "png": "[encoded data removed]",
       "text": [
        "<matplotlib.figure.Figure at 0x10f2fbc10>"
       ]
      }
     ],
     "prompt_number": 106
    },
    {
     "cell_type": "code",
     "collapsed": false,
     "input": [],
     "language": "python",
     "metadata": {},
     "outputs": []
    },
    {
     "cell_type": "code",
     "collapsed": false,
     "input": [],
     "language": "python",
     "metadata": {},
     "outputs": []
    },
    {
     "cell_type": "code",
     "collapsed": false,
     "input": [],
     "language": "python",
     "metadata": {},
     "outputs": []
    },
    {
     "cell_type": "code",
     "collapsed": false,
     "input": [],
     "language": "python",
     "metadata": {},
     "outputs": []
    }
   ],
   "metadata": {}
  }
 ]
}